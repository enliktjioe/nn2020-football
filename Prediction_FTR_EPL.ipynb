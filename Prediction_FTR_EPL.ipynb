{
 "cells": [
  {
   "cell_type": "markdown",
   "metadata": {},
   "source": [
    "## Prediction EPL"
   ]
  },
  {
   "cell_type": "code",
   "execution_count": 1,
   "metadata": {},
   "outputs": [],
   "source": [
    "import pandas as pd\n",
    "import numpy as np\n",
    "from sklearn.metrics import confusion_matrix\n",
    "from sklearn.model_selection import train_test_split\n",
    "\n",
    "%load_ext autoreload\n",
    "%autoreload 2\n",
    "\n",
    "# making all pandas columns visable with display command\n",
    "pd.set_option('display.max_columns', 500)\n",
    "\n",
    "from tensorflow.keras.models import Model\n",
    "from tensorflow.keras.layers import Input, Conv2D, Activation, Flatten, Dense, Dropout, LSTM\n",
    "from tensorflow.keras.optimizers import Adam"
   ]
  },
  {
   "cell_type": "code",
   "execution_count": 2,
   "metadata": {},
   "outputs": [],
   "source": [
    "train=pd.read_csv(\"datasets/epl_data_train_onehot.csv\")\n",
    "test=pd.read_csv(\"datasets/epl_data_test_onehot.csv\")\n",
    "# print(train.head())\n",
    "# print(train.shape)"
   ]
  },
  {
   "cell_type": "code",
   "execution_count": 3,
   "metadata": {},
   "outputs": [
    {
     "name": "stdout",
     "output_type": "stream",
     "text": [
      "(2660, 29)\n",
      "(2660,)\n"
     ]
    }
   ],
   "source": [
    "X_train = train.drop(columns = ['FTR'])\n",
    "y_train = train['FTR']\n",
    "print(X_train.shape)\n",
    "print(y_train.shape)"
   ]
  },
  {
   "cell_type": "code",
   "execution_count": 4,
   "metadata": {},
   "outputs": [
    {
     "name": "stdout",
     "output_type": "stream",
     "text": [
      "(380, 29)\n",
      "(380,)\n"
     ]
    }
   ],
   "source": [
    "X_test = test.drop(columns = ['FTR'])\n",
    "y_test = test['FTR']\n",
    "print(X_test.shape)\n",
    "print(y_test.shape)"
   ]
  },
  {
   "cell_type": "code",
   "execution_count": 5,
   "metadata": {},
   "outputs": [
    {
     "data": {
      "text/plain": [
       "29"
      ]
     },
     "execution_count": 5,
     "metadata": {},
     "output_type": "execute_result"
    }
   ],
   "source": [
    "columns = X_train.shape[1]\n",
    "columns"
   ]
  },
  {
   "cell_type": "code",
   "execution_count": 6,
   "metadata": {},
   "outputs": [
    {
     "name": "stdout",
     "output_type": "stream",
     "text": [
      "Model: \"model\"\n",
      "_________________________________________________________________\n",
      "Layer (type)                 Output Shape              Param #   \n",
      "=================================================================\n",
      "input_1 (InputLayer)         [(None, 29)]              0         \n",
      "_________________________________________________________________\n",
      "flatten (Flatten)            (None, 29)                0         \n",
      "_________________________________________________________________\n",
      "dense (Dense)                (None, 41)                1230      \n",
      "_________________________________________________________________\n",
      "dense_1 (Dense)              (None, 75)                3150      \n",
      "_________________________________________________________________\n",
      "dropout (Dropout)            (None, 75)                0         \n",
      "_________________________________________________________________\n",
      "activation (Activation)      (None, 75)                0         \n",
      "=================================================================\n",
      "Total params: 4,380\n",
      "Trainable params: 4,380\n",
      "Non-trainable params: 0\n",
      "_________________________________________________________________\n"
     ]
    }
   ],
   "source": [
    "# 41-75-3\n",
    "# We first need to define the sequence of dependencies (the computational graph)\n",
    "# x = Input(shape=(20,32))\n",
    "x = Input(shape=(columns,))\n",
    "# h = Conv2D(32, (7, 7), strides=(2, 2))(x)\n",
    "# h = Activation('relu')(x)\n",
    "h = Flatten()(x)\n",
    "h = Dense(41)(h)\n",
    "h = Dense(75)(h)\n",
    "# for i in range(10):\n",
    "#     h = Dense(75)(h)\n",
    "h = Dropout(0.3)(h)\n",
    "p = Activation('softmax')(h)\n",
    "\n",
    "# Now that we have defined how to find p from x, we can create a \n",
    "# model simply by saying what is input and what is output\n",
    "model = Model(inputs=x, outputs=p)\n",
    "model.compile(loss='sparse_categorical_crossentropy', optimizer=Adam(lr=0.00001), metrics=['accuracy'])\n",
    "model.summary()"
   ]
  },
  {
   "cell_type": "code",
   "execution_count": 7,
   "metadata": {},
   "outputs": [
    {
     "name": "stdout",
     "output_type": "stream",
     "text": [
      "Epoch 1/200\n",
      "160/160 [==============================] - 1s 4ms/step - loss: 5.7073 - accuracy: 0.0102 - val_loss: 4.7846 - val_accuracy: 0.0000e+00\n",
      "Epoch 2/200\n",
      "160/160 [==============================] - 0s 3ms/step - loss: 5.4733 - accuracy: 0.0141 - val_loss: 4.6214 - val_accuracy: 0.0093\n",
      "Epoch 3/200\n",
      "160/160 [==============================] - 0s 2ms/step - loss: 5.2355 - accuracy: 0.0180 - val_loss: 4.4641 - val_accuracy: 0.0093\n",
      "Epoch 4/200\n",
      "160/160 [==============================] - 0s 3ms/step - loss: 5.0777 - accuracy: 0.0282 - val_loss: 4.3122 - val_accuracy: 0.0561\n",
      "Epoch 5/200\n",
      "160/160 [==============================] - 1s 3ms/step - loss: 4.8729 - accuracy: 0.0415 - val_loss: 4.1650 - val_accuracy: 0.0841\n",
      "Epoch 6/200\n",
      "160/160 [==============================] - 0s 3ms/step - loss: 4.7848 - accuracy: 0.0595 - val_loss: 4.0270 - val_accuracy: 0.1215\n",
      "Epoch 7/200\n",
      "160/160 [==============================] - 0s 2ms/step - loss: 4.5898 - accuracy: 0.0877 - val_loss: 3.8952 - val_accuracy: 0.1495\n",
      "Epoch 8/200\n",
      "160/160 [==============================] - 0s 2ms/step - loss: 4.3826 - accuracy: 0.1093 - val_loss: 3.7701 - val_accuracy: 0.1869\n",
      "Epoch 9/200\n",
      "160/160 [==============================] - 0s 2ms/step - loss: 4.3128 - accuracy: 0.1351 - val_loss: 3.6503 - val_accuracy: 0.2430\n",
      "Epoch 10/200\n",
      "160/160 [==============================] - 0s 3ms/step - loss: 4.2179 - accuracy: 0.1594 - val_loss: 3.5358 - val_accuracy: 0.2804\n",
      "Epoch 11/200\n",
      "160/160 [==============================] - 0s 3ms/step - loss: 4.0953 - accuracy: 0.1747 - val_loss: 3.4279 - val_accuracy: 0.2897\n",
      "Epoch 12/200\n",
      "160/160 [==============================] - 0s 3ms/step - loss: 3.8978 - accuracy: 0.2017 - val_loss: 3.3184 - val_accuracy: 0.3178\n",
      "Epoch 13/200\n",
      "160/160 [==============================] - 0s 3ms/step - loss: 3.7980 - accuracy: 0.2264 - val_loss: 3.2153 - val_accuracy: 0.3551\n",
      "Epoch 14/200\n",
      "160/160 [==============================] - 0s 3ms/step - loss: 3.6944 - accuracy: 0.2358 - val_loss: 3.1150 - val_accuracy: 0.3738\n",
      "Epoch 15/200\n",
      "160/160 [==============================] - 0s 2ms/step - loss: 3.6211 - accuracy: 0.2370 - val_loss: 3.0212 - val_accuracy: 0.3925\n",
      "Epoch 16/200\n",
      "160/160 [==============================] - 0s 3ms/step - loss: 3.5524 - accuracy: 0.2534 - val_loss: 2.9316 - val_accuracy: 0.4019\n",
      "Epoch 17/200\n",
      "160/160 [==============================] - 0s 2ms/step - loss: 3.4550 - accuracy: 0.2687 - val_loss: 2.8417 - val_accuracy: 0.3925\n",
      "Epoch 18/200\n",
      "160/160 [==============================] - 0s 2ms/step - loss: 3.2881 - accuracy: 0.2961 - val_loss: 2.7522 - val_accuracy: 0.4206\n",
      "Epoch 19/200\n",
      "160/160 [==============================] - 0s 2ms/step - loss: 3.2430 - accuracy: 0.2985 - val_loss: 2.6693 - val_accuracy: 0.4112\n",
      "Epoch 20/200\n",
      "160/160 [==============================] - 0s 2ms/step - loss: 3.2156 - accuracy: 0.2891 - val_loss: 2.5908 - val_accuracy: 0.4206\n",
      "Epoch 21/200\n",
      "160/160 [==============================] - 0s 2ms/step - loss: 3.0782 - accuracy: 0.3224 - val_loss: 2.5172 - val_accuracy: 0.4206\n",
      "Epoch 22/200\n",
      "160/160 [==============================] - 0s 2ms/step - loss: 3.0687 - accuracy: 0.3165 - val_loss: 2.4484 - val_accuracy: 0.4393\n",
      "Epoch 23/200\n",
      "160/160 [==============================] - 0s 2ms/step - loss: 2.9706 - accuracy: 0.3275 - val_loss: 2.3808 - val_accuracy: 0.4486\n",
      "Epoch 24/200\n",
      "160/160 [==============================] - 0s 2ms/step - loss: 2.9347 - accuracy: 0.3310 - val_loss: 2.3180 - val_accuracy: 0.4579\n",
      "Epoch 25/200\n",
      "160/160 [==============================] - 0s 2ms/step - loss: 2.8917 - accuracy: 0.3322 - val_loss: 2.2578 - val_accuracy: 0.4579\n",
      "Epoch 26/200\n",
      "160/160 [==============================] - 0s 2ms/step - loss: 2.8448 - accuracy: 0.3427 - val_loss: 2.2030 - val_accuracy: 0.4579\n",
      "Epoch 27/200\n",
      "160/160 [==============================] - 0s 2ms/step - loss: 2.7573 - accuracy: 0.3580 - val_loss: 2.1482 - val_accuracy: 0.4766\n",
      "Epoch 28/200\n",
      "160/160 [==============================] - 1s 3ms/step - loss: 2.6718 - accuracy: 0.3811 - val_loss: 2.0980 - val_accuracy: 0.4766\n",
      "Epoch 29/200\n",
      "160/160 [==============================] - 0s 2ms/step - loss: 2.6307 - accuracy: 0.3831 - val_loss: 2.0507 - val_accuracy: 0.4953\n",
      "Epoch 30/200\n",
      "160/160 [==============================] - 0s 2ms/step - loss: 2.6479 - accuracy: 0.3705 - val_loss: 2.0082 - val_accuracy: 0.4953\n",
      "Epoch 31/200\n",
      "160/160 [==============================] - 0s 3ms/step - loss: 2.6391 - accuracy: 0.3647 - val_loss: 1.9684 - val_accuracy: 0.4953\n",
      "Epoch 32/200\n",
      "160/160 [==============================] - 0s 2ms/step - loss: 2.5849 - accuracy: 0.3611 - val_loss: 1.9321 - val_accuracy: 0.4953\n",
      "Epoch 33/200\n",
      "160/160 [==============================] - 0s 3ms/step - loss: 2.5520 - accuracy: 0.3756 - val_loss: 1.8947 - val_accuracy: 0.4953\n",
      "Epoch 34/200\n",
      "160/160 [==============================] - 0s 3ms/step - loss: 2.5129 - accuracy: 0.3831 - val_loss: 1.8583 - val_accuracy: 0.5047\n",
      "Epoch 35/200\n",
      "160/160 [==============================] - 0s 3ms/step - loss: 2.4501 - accuracy: 0.3846 - val_loss: 1.8251 - val_accuracy: 0.5047\n",
      "Epoch 36/200\n",
      "160/160 [==============================] - 0s 3ms/step - loss: 2.4037 - accuracy: 0.3917 - val_loss: 1.7916 - val_accuracy: 0.5140\n",
      "Epoch 37/200\n",
      "160/160 [==============================] - 0s 3ms/step - loss: 2.3918 - accuracy: 0.3890 - val_loss: 1.7596 - val_accuracy: 0.5047\n",
      "Epoch 38/200\n",
      "160/160 [==============================] - 1s 3ms/step - loss: 2.3713 - accuracy: 0.3948 - val_loss: 1.7309 - val_accuracy: 0.5047\n",
      "Epoch 39/200\n",
      "160/160 [==============================] - 1s 4ms/step - loss: 2.4002 - accuracy: 0.3843 - val_loss: 1.7057 - val_accuracy: 0.5140\n",
      "Epoch 40/200\n",
      "160/160 [==============================] - 1s 4ms/step - loss: 2.3660 - accuracy: 0.3886 - val_loss: 1.6798 - val_accuracy: 0.5234\n",
      "Epoch 41/200\n",
      "160/160 [==============================] - 1s 4ms/step - loss: 2.3339 - accuracy: 0.4015 - val_loss: 1.6557 - val_accuracy: 0.5327\n",
      "Epoch 42/200\n",
      "160/160 [==============================] - 1s 4ms/step - loss: 2.3034 - accuracy: 0.3933 - val_loss: 1.6338 - val_accuracy: 0.5327\n",
      "Epoch 43/200\n",
      "160/160 [==============================] - 1s 4ms/step - loss: 2.2751 - accuracy: 0.3933 - val_loss: 1.6111 - val_accuracy: 0.5327\n",
      "Epoch 44/200\n",
      "160/160 [==============================] - 0s 3ms/step - loss: 2.2985 - accuracy: 0.3925 - val_loss: 1.5922 - val_accuracy: 0.5234\n",
      "Epoch 45/200\n",
      "160/160 [==============================] - 0s 3ms/step - loss: 2.2157 - accuracy: 0.3968 - val_loss: 1.5715 - val_accuracy: 0.5234\n",
      "Epoch 46/200\n",
      "160/160 [==============================] - 1s 3ms/step - loss: 2.2069 - accuracy: 0.3999 - val_loss: 1.5528 - val_accuracy: 0.5234\n",
      "Epoch 47/200\n",
      "160/160 [==============================] - 1s 3ms/step - loss: 2.2416 - accuracy: 0.3956 - val_loss: 1.5376 - val_accuracy: 0.5234\n",
      "Epoch 48/200\n",
      "160/160 [==============================] - 1s 3ms/step - loss: 2.1921 - accuracy: 0.4042 - val_loss: 1.5213 - val_accuracy: 0.5234\n",
      "Epoch 49/200\n",
      "160/160 [==============================] - 0s 3ms/step - loss: 2.2472 - accuracy: 0.3956 - val_loss: 1.5085 - val_accuracy: 0.5327\n",
      "Epoch 50/200\n",
      "160/160 [==============================] - 0s 3ms/step - loss: 2.1520 - accuracy: 0.4081 - val_loss: 1.4945 - val_accuracy: 0.5327\n",
      "Epoch 51/200\n",
      "160/160 [==============================] - 0s 3ms/step - loss: 2.2039 - accuracy: 0.3956 - val_loss: 1.4818 - val_accuracy: 0.5327\n",
      "Epoch 52/200\n",
      "160/160 [==============================] - 0s 3ms/step - loss: 2.1910 - accuracy: 0.3944 - val_loss: 1.4710 - val_accuracy: 0.5327\n",
      "Epoch 53/200\n",
      "160/160 [==============================] - 0s 3ms/step - loss: 2.1299 - accuracy: 0.4117 - val_loss: 1.4573 - val_accuracy: 0.5421\n",
      "Epoch 54/200\n",
      "160/160 [==============================] - 0s 3ms/step - loss: 2.1478 - accuracy: 0.4093 - val_loss: 1.4454 - val_accuracy: 0.5421\n",
      "Epoch 55/200\n",
      "160/160 [==============================] - 0s 3ms/step - loss: 2.1184 - accuracy: 0.4113 - val_loss: 1.4336 - val_accuracy: 0.5421\n",
      "Epoch 56/200\n",
      "160/160 [==============================] - 0s 3ms/step - loss: 2.1807 - accuracy: 0.4093 - val_loss: 1.4239 - val_accuracy: 0.5421\n",
      "Epoch 57/200\n",
      "160/160 [==============================] - 0s 3ms/step - loss: 2.1596 - accuracy: 0.3995 - val_loss: 1.4140 - val_accuracy: 0.5421\n"
     ]
    },
    {
     "name": "stdout",
     "output_type": "stream",
     "text": [
      "Epoch 58/200\n",
      "160/160 [==============================] - 0s 3ms/step - loss: 2.1181 - accuracy: 0.4136 - val_loss: 1.4053 - val_accuracy: 0.5421\n",
      "Epoch 59/200\n",
      "160/160 [==============================] - 1s 3ms/step - loss: 2.1150 - accuracy: 0.4128 - val_loss: 1.3948 - val_accuracy: 0.5421\n",
      "Epoch 60/200\n",
      "160/160 [==============================] - 0s 3ms/step - loss: 2.1170 - accuracy: 0.4121 - val_loss: 1.3850 - val_accuracy: 0.5421\n",
      "Epoch 61/200\n",
      "160/160 [==============================] - 0s 3ms/step - loss: 2.1141 - accuracy: 0.4058 - val_loss: 1.3762 - val_accuracy: 0.5421\n",
      "Epoch 62/200\n",
      "160/160 [==============================] - 0s 3ms/step - loss: 2.1247 - accuracy: 0.4101 - val_loss: 1.3669 - val_accuracy: 0.5514\n",
      "Epoch 63/200\n",
      "160/160 [==============================] - 0s 3ms/step - loss: 2.0705 - accuracy: 0.4140 - val_loss: 1.3567 - val_accuracy: 0.5607\n",
      "Epoch 64/200\n",
      "160/160 [==============================] - 0s 3ms/step - loss: 2.1083 - accuracy: 0.4191 - val_loss: 1.3482 - val_accuracy: 0.5514\n",
      "Epoch 65/200\n",
      "160/160 [==============================] - 1s 3ms/step - loss: 2.1781 - accuracy: 0.4011 - val_loss: 1.3422 - val_accuracy: 0.5514\n",
      "Epoch 66/200\n",
      "160/160 [==============================] - 0s 3ms/step - loss: 2.1285 - accuracy: 0.4156 - val_loss: 1.3340 - val_accuracy: 0.5514\n",
      "Epoch 67/200\n",
      "160/160 [==============================] - 0s 3ms/step - loss: 2.0684 - accuracy: 0.4222 - val_loss: 1.3248 - val_accuracy: 0.5514\n",
      "Epoch 68/200\n",
      "160/160 [==============================] - 0s 3ms/step - loss: 2.0901 - accuracy: 0.4128 - val_loss: 1.3170 - val_accuracy: 0.5607\n",
      "Epoch 69/200\n",
      "160/160 [==============================] - 1s 3ms/step - loss: 2.0754 - accuracy: 0.4097 - val_loss: 1.3085 - val_accuracy: 0.5514\n",
      "Epoch 70/200\n",
      "160/160 [==============================] - 0s 3ms/step - loss: 2.0788 - accuracy: 0.4152 - val_loss: 1.3007 - val_accuracy: 0.5607\n",
      "Epoch 71/200\n",
      "160/160 [==============================] - 1s 3ms/step - loss: 2.0718 - accuracy: 0.4168 - val_loss: 1.2930 - val_accuracy: 0.5607\n",
      "Epoch 72/200\n",
      "160/160 [==============================] - 1s 3ms/step - loss: 2.1077 - accuracy: 0.4168 - val_loss: 1.2872 - val_accuracy: 0.5514\n",
      "Epoch 73/200\n",
      "160/160 [==============================] - 1s 3ms/step - loss: 2.1060 - accuracy: 0.4109 - val_loss: 1.2808 - val_accuracy: 0.5514\n",
      "Epoch 74/200\n",
      "160/160 [==============================] - 1s 3ms/step - loss: 2.0321 - accuracy: 0.4168 - val_loss: 1.2710 - val_accuracy: 0.5607\n",
      "Epoch 75/200\n",
      "160/160 [==============================] - 0s 3ms/step - loss: 2.0277 - accuracy: 0.4269 - val_loss: 1.2641 - val_accuracy: 0.5701\n",
      "Epoch 76/200\n",
      "160/160 [==============================] - 1s 3ms/step - loss: 2.0742 - accuracy: 0.4128 - val_loss: 1.2563 - val_accuracy: 0.5607\n",
      "Epoch 77/200\n",
      "160/160 [==============================] - 0s 3ms/step - loss: 2.0567 - accuracy: 0.4262 - val_loss: 1.2493 - val_accuracy: 0.5607\n",
      "Epoch 78/200\n",
      "160/160 [==============================] - 0s 3ms/step - loss: 2.0172 - accuracy: 0.4266 - val_loss: 1.2415 - val_accuracy: 0.5607\n",
      "Epoch 79/200\n",
      "160/160 [==============================] - 1s 4ms/step - loss: 2.0883 - accuracy: 0.4093 - val_loss: 1.2362 - val_accuracy: 0.5607\n",
      "Epoch 80/200\n",
      "160/160 [==============================] - 1s 4ms/step - loss: 2.1024 - accuracy: 0.4042 - val_loss: 1.2311 - val_accuracy: 0.5607\n",
      "Epoch 81/200\n",
      "160/160 [==============================] - 1s 3ms/step - loss: 2.0482 - accuracy: 0.4172 - val_loss: 1.2242 - val_accuracy: 0.5607\n",
      "Epoch 82/200\n",
      "160/160 [==============================] - 1s 3ms/step - loss: 2.0932 - accuracy: 0.4097 - val_loss: 1.2186 - val_accuracy: 0.5607\n",
      "Epoch 83/200\n",
      "160/160 [==============================] - 1s 4ms/step - loss: 2.0285 - accuracy: 0.4320 - val_loss: 1.2116 - val_accuracy: 0.5607\n",
      "Epoch 84/200\n",
      "160/160 [==============================] - 1s 3ms/step - loss: 2.0233 - accuracy: 0.4152 - val_loss: 1.2053 - val_accuracy: 0.5607\n",
      "Epoch 85/200\n",
      "160/160 [==============================] - 1s 3ms/step - loss: 2.0865 - accuracy: 0.4085 - val_loss: 1.2004 - val_accuracy: 0.5607\n",
      "Epoch 86/200\n",
      "160/160 [==============================] - 1s 4ms/step - loss: 2.0502 - accuracy: 0.4183 - val_loss: 1.1938 - val_accuracy: 0.5607\n",
      "Epoch 87/200\n",
      "160/160 [==============================] - 0s 3ms/step - loss: 2.0269 - accuracy: 0.4152 - val_loss: 1.1875 - val_accuracy: 0.5514\n",
      "Epoch 88/200\n",
      "160/160 [==============================] - 1s 3ms/step - loss: 1.9837 - accuracy: 0.4262 - val_loss: 1.1807 - val_accuracy: 0.5607\n",
      "Epoch 89/200\n",
      "160/160 [==============================] - 0s 3ms/step - loss: 2.0380 - accuracy: 0.4199 - val_loss: 1.1747 - val_accuracy: 0.5514\n",
      "Epoch 90/200\n",
      "160/160 [==============================] - 0s 3ms/step - loss: 2.0109 - accuracy: 0.4183 - val_loss: 1.1690 - val_accuracy: 0.5607\n",
      "Epoch 91/200\n",
      "160/160 [==============================] - 0s 3ms/step - loss: 2.0587 - accuracy: 0.4081 - val_loss: 1.1649 - val_accuracy: 0.5701\n",
      "Epoch 92/200\n",
      "160/160 [==============================] - 0s 3ms/step - loss: 2.1181 - accuracy: 0.4019 - val_loss: 1.1612 - val_accuracy: 0.5607\n",
      "Epoch 93/200\n",
      "160/160 [==============================] - 0s 3ms/step - loss: 2.0627 - accuracy: 0.4238 - val_loss: 1.1564 - val_accuracy: 0.5701\n",
      "Epoch 94/200\n",
      "160/160 [==============================] - 0s 3ms/step - loss: 2.0313 - accuracy: 0.4109 - val_loss: 1.1519 - val_accuracy: 0.5701\n",
      "Epoch 95/200\n",
      "160/160 [==============================] - 0s 3ms/step - loss: 2.0159 - accuracy: 0.4207 - val_loss: 1.1470 - val_accuracy: 0.5701\n",
      "Epoch 96/200\n",
      "160/160 [==============================] - 0s 3ms/step - loss: 1.9591 - accuracy: 0.4316 - val_loss: 1.1405 - val_accuracy: 0.5701\n",
      "Epoch 97/200\n",
      "160/160 [==============================] - 0s 3ms/step - loss: 2.0511 - accuracy: 0.4152 - val_loss: 1.1355 - val_accuracy: 0.5701\n",
      "Epoch 98/200\n",
      "160/160 [==============================] - 1s 3ms/step - loss: 2.0141 - accuracy: 0.4262 - val_loss: 1.1303 - val_accuracy: 0.5701\n",
      "Epoch 99/200\n",
      "160/160 [==============================] - 0s 3ms/step - loss: 2.0297 - accuracy: 0.4109 - val_loss: 1.1263 - val_accuracy: 0.5701\n",
      "Epoch 100/200\n",
      "160/160 [==============================] - 0s 3ms/step - loss: 2.0236 - accuracy: 0.4238 - val_loss: 1.1210 - val_accuracy: 0.5701\n",
      "Epoch 101/200\n",
      "160/160 [==============================] - 1s 3ms/step - loss: 1.9785 - accuracy: 0.4328 - val_loss: 1.1156 - val_accuracy: 0.5701\n",
      "Epoch 102/200\n",
      "160/160 [==============================] - 1s 3ms/step - loss: 2.0399 - accuracy: 0.4160 - val_loss: 1.1116 - val_accuracy: 0.5794\n",
      "Epoch 103/200\n",
      "160/160 [==============================] - 0s 3ms/step - loss: 2.0484 - accuracy: 0.4058 - val_loss: 1.1085 - val_accuracy: 0.5794\n",
      "Epoch 104/200\n",
      "160/160 [==============================] - 0s 3ms/step - loss: 1.9485 - accuracy: 0.4320 - val_loss: 1.1021 - val_accuracy: 0.5794\n",
      "Epoch 105/200\n",
      "160/160 [==============================] - 0s 2ms/step - loss: 1.9641 - accuracy: 0.4328 - val_loss: 1.0982 - val_accuracy: 0.5888\n",
      "Epoch 106/200\n",
      "160/160 [==============================] - 0s 3ms/step - loss: 2.0091 - accuracy: 0.4281 - val_loss: 1.0949 - val_accuracy: 0.5701\n",
      "Epoch 107/200\n",
      "160/160 [==============================] - 0s 3ms/step - loss: 1.9767 - accuracy: 0.4305 - val_loss: 1.0905 - val_accuracy: 0.5794\n",
      "Epoch 108/200\n",
      "160/160 [==============================] - 0s 3ms/step - loss: 2.0238 - accuracy: 0.4234 - val_loss: 1.0873 - val_accuracy: 0.5701\n",
      "Epoch 109/200\n",
      "160/160 [==============================] - 0s 3ms/step - loss: 2.0022 - accuracy: 0.4183 - val_loss: 1.0828 - val_accuracy: 0.5701\n",
      "Epoch 110/200\n",
      "160/160 [==============================] - 0s 3ms/step - loss: 2.0283 - accuracy: 0.4230 - val_loss: 1.0796 - val_accuracy: 0.5701\n",
      "Epoch 111/200\n",
      "160/160 [==============================] - 0s 2ms/step - loss: 1.9892 - accuracy: 0.4309 - val_loss: 1.0764 - val_accuracy: 0.5701\n",
      "Epoch 112/200\n",
      "160/160 [==============================] - 0s 3ms/step - loss: 1.9928 - accuracy: 0.4309 - val_loss: 1.0724 - val_accuracy: 0.5701\n",
      "Epoch 113/200\n",
      "160/160 [==============================] - 0s 2ms/step - loss: 1.9845 - accuracy: 0.4293 - val_loss: 1.0693 - val_accuracy: 0.5701\n",
      "Epoch 114/200\n",
      "160/160 [==============================] - 0s 3ms/step - loss: 1.9889 - accuracy: 0.4254 - val_loss: 1.0666 - val_accuracy: 0.5701\n"
     ]
    },
    {
     "name": "stdout",
     "output_type": "stream",
     "text": [
      "Epoch 115/200\n",
      "160/160 [==============================] - 0s 3ms/step - loss: 1.9823 - accuracy: 0.4285 - val_loss: 1.0635 - val_accuracy: 0.5701\n",
      "Epoch 116/200\n",
      "160/160 [==============================] - 0s 3ms/step - loss: 1.9863 - accuracy: 0.4289 - val_loss: 1.0600 - val_accuracy: 0.5701\n",
      "Epoch 117/200\n",
      "160/160 [==============================] - 0s 3ms/step - loss: 2.0153 - accuracy: 0.4262 - val_loss: 1.0567 - val_accuracy: 0.5701\n",
      "Epoch 118/200\n",
      "160/160 [==============================] - 0s 3ms/step - loss: 2.0566 - accuracy: 0.4011 - val_loss: 1.0554 - val_accuracy: 0.5701\n",
      "Epoch 119/200\n",
      "160/160 [==============================] - 0s 3ms/step - loss: 1.9902 - accuracy: 0.4363 - val_loss: 1.0519 - val_accuracy: 0.5701\n",
      "Epoch 120/200\n",
      "160/160 [==============================] - 0s 2ms/step - loss: 1.9212 - accuracy: 0.4399 - val_loss: 1.0476 - val_accuracy: 0.5701\n",
      "Epoch 121/200\n",
      "160/160 [==============================] - 1s 4ms/step - loss: 1.9828 - accuracy: 0.4348 - val_loss: 1.0440 - val_accuracy: 0.5701\n",
      "Epoch 122/200\n",
      "160/160 [==============================] - 0s 3ms/step - loss: 2.0321 - accuracy: 0.4140 - val_loss: 1.0416 - val_accuracy: 0.5701\n",
      "Epoch 123/200\n",
      "160/160 [==============================] - 0s 3ms/step - loss: 1.9883 - accuracy: 0.4277 - val_loss: 1.0385 - val_accuracy: 0.5794\n",
      "Epoch 124/200\n",
      "160/160 [==============================] - 0s 3ms/step - loss: 1.9355 - accuracy: 0.4328 - val_loss: 1.0357 - val_accuracy: 0.5888\n",
      "Epoch 125/200\n",
      "160/160 [==============================] - 0s 3ms/step - loss: 1.9577 - accuracy: 0.4410 - val_loss: 1.0327 - val_accuracy: 0.5794\n",
      "Epoch 126/200\n",
      "160/160 [==============================] - 0s 2ms/step - loss: 1.9787 - accuracy: 0.4403 - val_loss: 1.0290 - val_accuracy: 0.5794\n",
      "Epoch 127/200\n",
      "160/160 [==============================] - 0s 3ms/step - loss: 1.9677 - accuracy: 0.4222 - val_loss: 1.0278 - val_accuracy: 0.5888\n",
      "Epoch 128/200\n",
      "160/160 [==============================] - 0s 3ms/step - loss: 1.9669 - accuracy: 0.4297 - val_loss: 1.0258 - val_accuracy: 0.5888\n",
      "Epoch 129/200\n",
      "160/160 [==============================] - 0s 3ms/step - loss: 1.9887 - accuracy: 0.4383 - val_loss: 1.0235 - val_accuracy: 0.5888\n",
      "Epoch 130/200\n",
      "160/160 [==============================] - 0s 3ms/step - loss: 1.9548 - accuracy: 0.4391 - val_loss: 1.0219 - val_accuracy: 0.5888\n",
      "Epoch 131/200\n",
      "160/160 [==============================] - 0s 2ms/step - loss: 1.9908 - accuracy: 0.4238 - val_loss: 1.0192 - val_accuracy: 0.5888\n",
      "Epoch 132/200\n",
      "160/160 [==============================] - 0s 3ms/step - loss: 1.9786 - accuracy: 0.4344 - val_loss: 1.0170 - val_accuracy: 0.5701\n",
      "Epoch 133/200\n",
      "160/160 [==============================] - 0s 3ms/step - loss: 1.9728 - accuracy: 0.4407 - val_loss: 1.0146 - val_accuracy: 0.5701\n",
      "Epoch 134/200\n",
      "160/160 [==============================] - 0s 3ms/step - loss: 1.9656 - accuracy: 0.4360 - val_loss: 1.0119 - val_accuracy: 0.5701\n",
      "Epoch 135/200\n",
      "160/160 [==============================] - 0s 2ms/step - loss: 1.9773 - accuracy: 0.4285 - val_loss: 1.0109 - val_accuracy: 0.5701\n",
      "Epoch 136/200\n",
      "160/160 [==============================] - 0s 2ms/step - loss: 1.9934 - accuracy: 0.4226 - val_loss: 1.0096 - val_accuracy: 0.5701\n",
      "Epoch 137/200\n",
      "160/160 [==============================] - 0s 2ms/step - loss: 2.0065 - accuracy: 0.4191 - val_loss: 1.0087 - val_accuracy: 0.5794\n",
      "Epoch 138/200\n",
      "160/160 [==============================] - 0s 3ms/step - loss: 1.9705 - accuracy: 0.4348 - val_loss: 1.0070 - val_accuracy: 0.5701\n",
      "Epoch 139/200\n",
      "160/160 [==============================] - 0s 3ms/step - loss: 1.9544 - accuracy: 0.4363 - val_loss: 1.0048 - val_accuracy: 0.5794\n",
      "Epoch 140/200\n",
      "160/160 [==============================] - 0s 2ms/step - loss: 1.9501 - accuracy: 0.4289 - val_loss: 1.0024 - val_accuracy: 0.5701\n",
      "Epoch 141/200\n",
      "160/160 [==============================] - 0s 3ms/step - loss: 2.0375 - accuracy: 0.4195 - val_loss: 1.0015 - val_accuracy: 0.5607\n",
      "Epoch 142/200\n",
      "160/160 [==============================] - 0s 2ms/step - loss: 1.9980 - accuracy: 0.4246 - val_loss: 0.9998 - val_accuracy: 0.5607\n",
      "Epoch 143/200\n",
      "160/160 [==============================] - 0s 3ms/step - loss: 1.9777 - accuracy: 0.4360 - val_loss: 0.9975 - val_accuracy: 0.5607\n",
      "Epoch 144/200\n",
      "160/160 [==============================] - 1s 3ms/step - loss: 1.9795 - accuracy: 0.4332 - val_loss: 0.9954 - val_accuracy: 0.5607\n",
      "Epoch 145/200\n",
      "160/160 [==============================] - 1s 4ms/step - loss: 2.0275 - accuracy: 0.4226 - val_loss: 0.9943 - val_accuracy: 0.5701\n",
      "Epoch 146/200\n",
      "160/160 [==============================] - 1s 4ms/step - loss: 1.9460 - accuracy: 0.4332 - val_loss: 0.9932 - val_accuracy: 0.5607\n",
      "Epoch 147/200\n",
      "160/160 [==============================] - 0s 3ms/step - loss: 1.9906 - accuracy: 0.4211 - val_loss: 0.9916 - val_accuracy: 0.5701\n",
      "Epoch 148/200\n",
      "160/160 [==============================] - 0s 3ms/step - loss: 1.9902 - accuracy: 0.4277 - val_loss: 0.9900 - val_accuracy: 0.5701\n",
      "Epoch 149/200\n",
      "160/160 [==============================] - 0s 3ms/step - loss: 1.9498 - accuracy: 0.4379 - val_loss: 0.9889 - val_accuracy: 0.5607\n",
      "Epoch 150/200\n",
      "160/160 [==============================] - 1s 3ms/step - loss: 1.9148 - accuracy: 0.4410 - val_loss: 0.9863 - val_accuracy: 0.5607\n",
      "Epoch 151/200\n",
      "160/160 [==============================] - 0s 3ms/step - loss: 1.9705 - accuracy: 0.4266 - val_loss: 0.9849 - val_accuracy: 0.5701\n",
      "Epoch 152/200\n",
      "160/160 [==============================] - 0s 3ms/step - loss: 1.9560 - accuracy: 0.4454 - val_loss: 0.9837 - val_accuracy: 0.5607\n",
      "Epoch 153/200\n",
      "160/160 [==============================] - 0s 3ms/step - loss: 1.9653 - accuracy: 0.4332 - val_loss: 0.9820 - val_accuracy: 0.5607\n",
      "Epoch 154/200\n",
      "160/160 [==============================] - 0s 3ms/step - loss: 2.0245 - accuracy: 0.4203 - val_loss: 0.9807 - val_accuracy: 0.5607\n",
      "Epoch 155/200\n",
      "160/160 [==============================] - 1s 3ms/step - loss: 1.9672 - accuracy: 0.4430 - val_loss: 0.9792 - val_accuracy: 0.5607\n",
      "Epoch 156/200\n",
      "160/160 [==============================] - 1s 3ms/step - loss: 1.9260 - accuracy: 0.4450 - val_loss: 0.9774 - val_accuracy: 0.5607\n",
      "Epoch 157/200\n",
      "160/160 [==============================] - 0s 2ms/step - loss: 1.9964 - accuracy: 0.4360 - val_loss: 0.9759 - val_accuracy: 0.5607\n",
      "Epoch 158/200\n",
      "160/160 [==============================] - 0s 2ms/step - loss: 1.9591 - accuracy: 0.4434 - val_loss: 0.9737 - val_accuracy: 0.5607\n",
      "Epoch 159/200\n",
      "160/160 [==============================] - 0s 3ms/step - loss: 1.9819 - accuracy: 0.4403 - val_loss: 0.9727 - val_accuracy: 0.5607\n",
      "Epoch 160/200\n",
      "160/160 [==============================] - 0s 3ms/step - loss: 1.9741 - accuracy: 0.4277 - val_loss: 0.9716 - val_accuracy: 0.5607\n",
      "Epoch 161/200\n",
      "160/160 [==============================] - 0s 2ms/step - loss: 1.9473 - accuracy: 0.4442 - val_loss: 0.9705 - val_accuracy: 0.5607\n",
      "Epoch 162/200\n",
      "160/160 [==============================] - 0s 3ms/step - loss: 2.0064 - accuracy: 0.4277 - val_loss: 0.9698 - val_accuracy: 0.5607\n",
      "Epoch 163/200\n",
      "160/160 [==============================] - 0s 3ms/step - loss: 1.9462 - accuracy: 0.4438 - val_loss: 0.9688 - val_accuracy: 0.5607\n",
      "Epoch 164/200\n",
      "160/160 [==============================] - 1s 5ms/step - loss: 1.9120 - accuracy: 0.4430 - val_loss: 0.9677 - val_accuracy: 0.5607\n",
      "Epoch 165/200\n",
      "160/160 [==============================] - 0s 3ms/step - loss: 1.9385 - accuracy: 0.4395 - val_loss: 0.9661 - val_accuracy: 0.5701\n",
      "Epoch 166/200\n",
      "160/160 [==============================] - 0s 3ms/step - loss: 1.9551 - accuracy: 0.4391 - val_loss: 0.9647 - val_accuracy: 0.5607\n",
      "Epoch 167/200\n",
      "160/160 [==============================] - 0s 3ms/step - loss: 1.9892 - accuracy: 0.4320 - val_loss: 0.9641 - val_accuracy: 0.5607\n",
      "Epoch 168/200\n",
      "160/160 [==============================] - 1s 4ms/step - loss: 1.9671 - accuracy: 0.4367 - val_loss: 0.9631 - val_accuracy: 0.5701\n",
      "Epoch 169/200\n",
      "160/160 [==============================] - 1s 3ms/step - loss: 1.9590 - accuracy: 0.4340 - val_loss: 0.9627 - val_accuracy: 0.5607\n",
      "Epoch 170/200\n",
      "160/160 [==============================] - 0s 3ms/step - loss: 1.9938 - accuracy: 0.4238 - val_loss: 0.9612 - val_accuracy: 0.5701\n",
      "Epoch 171/200\n"
     ]
    },
    {
     "name": "stdout",
     "output_type": "stream",
     "text": [
      "160/160 [==============================] - 0s 2ms/step - loss: 1.9265 - accuracy: 0.4465 - val_loss: 0.9597 - val_accuracy: 0.5701\n",
      "Epoch 172/200\n",
      "160/160 [==============================] - 0s 2ms/step - loss: 1.9906 - accuracy: 0.4281 - val_loss: 0.9589 - val_accuracy: 0.5701\n",
      "Epoch 173/200\n",
      "160/160 [==============================] - 0s 3ms/step - loss: 1.9946 - accuracy: 0.4199 - val_loss: 0.9589 - val_accuracy: 0.5607\n",
      "Epoch 174/200\n",
      "160/160 [==============================] - 0s 3ms/step - loss: 1.9526 - accuracy: 0.4328 - val_loss: 0.9582 - val_accuracy: 0.5701\n",
      "Epoch 175/200\n",
      "160/160 [==============================] - 0s 3ms/step - loss: 1.9371 - accuracy: 0.4340 - val_loss: 0.9570 - val_accuracy: 0.5701\n",
      "Epoch 176/200\n",
      "160/160 [==============================] - 0s 2ms/step - loss: 1.9883 - accuracy: 0.4309 - val_loss: 0.9567 - val_accuracy: 0.5701\n",
      "Epoch 177/200\n",
      "160/160 [==============================] - 0s 3ms/step - loss: 1.9629 - accuracy: 0.4379 - val_loss: 0.9553 - val_accuracy: 0.5701\n",
      "Epoch 178/200\n",
      "160/160 [==============================] - 0s 2ms/step - loss: 1.9874 - accuracy: 0.4360 - val_loss: 0.9548 - val_accuracy: 0.5701\n",
      "Epoch 179/200\n",
      "160/160 [==============================] - 0s 3ms/step - loss: 2.0126 - accuracy: 0.4246 - val_loss: 0.9541 - val_accuracy: 0.5701\n",
      "Epoch 180/200\n",
      "160/160 [==============================] - 0s 3ms/step - loss: 1.9610 - accuracy: 0.4348 - val_loss: 0.9528 - val_accuracy: 0.5701\n",
      "Epoch 181/200\n",
      "160/160 [==============================] - 0s 3ms/step - loss: 1.9507 - accuracy: 0.4446 - val_loss: 0.9515 - val_accuracy: 0.5701\n",
      "Epoch 182/200\n",
      "160/160 [==============================] - 0s 3ms/step - loss: 1.9925 - accuracy: 0.4399 - val_loss: 0.9503 - val_accuracy: 0.5701\n",
      "Epoch 183/200\n",
      "160/160 [==============================] - 0s 3ms/step - loss: 1.9990 - accuracy: 0.4242 - val_loss: 0.9494 - val_accuracy: 0.5701\n",
      "Epoch 184/200\n",
      "160/160 [==============================] - 0s 3ms/step - loss: 1.9791 - accuracy: 0.4222 - val_loss: 0.9489 - val_accuracy: 0.5701\n",
      "Epoch 185/200\n",
      "160/160 [==============================] - 1s 4ms/step - loss: 1.9701 - accuracy: 0.4363 - val_loss: 0.9483 - val_accuracy: 0.5701\n",
      "Epoch 186/200\n",
      "160/160 [==============================] - 0s 3ms/step - loss: 1.9737 - accuracy: 0.4328 - val_loss: 0.9477 - val_accuracy: 0.5701\n",
      "Epoch 187/200\n",
      "160/160 [==============================] - 0s 3ms/step - loss: 1.9776 - accuracy: 0.4262 - val_loss: 0.9466 - val_accuracy: 0.5607\n",
      "Epoch 188/200\n",
      "160/160 [==============================] - 0s 3ms/step - loss: 1.9379 - accuracy: 0.4446 - val_loss: 0.9460 - val_accuracy: 0.5607\n",
      "Epoch 189/200\n",
      "160/160 [==============================] - 1s 3ms/step - loss: 1.9644 - accuracy: 0.4383 - val_loss: 0.9449 - val_accuracy: 0.5607\n",
      "Epoch 190/200\n",
      "160/160 [==============================] - 1s 5ms/step - loss: 1.9548 - accuracy: 0.4305 - val_loss: 0.9446 - val_accuracy: 0.5607\n",
      "Epoch 191/200\n",
      "160/160 [==============================] - 1s 4ms/step - loss: 1.9824 - accuracy: 0.4395 - val_loss: 0.9439 - val_accuracy: 0.5607\n",
      "Epoch 192/200\n",
      "160/160 [==============================] - 0s 3ms/step - loss: 1.9607 - accuracy: 0.4407 - val_loss: 0.9432 - val_accuracy: 0.5607\n",
      "Epoch 193/200\n",
      "160/160 [==============================] - 1s 3ms/step - loss: 1.9614 - accuracy: 0.4348 - val_loss: 0.9433 - val_accuracy: 0.5607\n",
      "Epoch 194/200\n",
      "160/160 [==============================] - 0s 3ms/step - loss: 1.9578 - accuracy: 0.4258 - val_loss: 0.9430 - val_accuracy: 0.5607\n",
      "Epoch 195/200\n",
      "160/160 [==============================] - 1s 3ms/step - loss: 1.9645 - accuracy: 0.4262 - val_loss: 0.9428 - val_accuracy: 0.5701\n",
      "Epoch 196/200\n",
      "160/160 [==============================] - 1s 3ms/step - loss: 1.9544 - accuracy: 0.4313 - val_loss: 0.9423 - val_accuracy: 0.5701\n",
      "Epoch 197/200\n",
      "160/160 [==============================] - 0s 3ms/step - loss: 1.9311 - accuracy: 0.4371 - val_loss: 0.9414 - val_accuracy: 0.5701\n",
      "Epoch 198/200\n",
      "160/160 [==============================] - 1s 4ms/step - loss: 1.9714 - accuracy: 0.4320 - val_loss: 0.9398 - val_accuracy: 0.5607\n",
      "Epoch 199/200\n",
      "160/160 [==============================] - 1s 5ms/step - loss: 1.9558 - accuracy: 0.4254 - val_loss: 0.9407 - val_accuracy: 0.5607\n",
      "Epoch 200/200\n",
      "160/160 [==============================] - 1s 5ms/step - loss: 1.9025 - accuracy: 0.4493 - val_loss: 0.9394 - val_accuracy: 0.5607\n"
     ]
    }
   ],
   "source": [
    "history = model.fit(X_train, y_train, batch_size=16, epochs=200, validation_split=0.04)"
   ]
  },
  {
   "cell_type": "code",
   "execution_count": 8,
   "metadata": {},
   "outputs": [
    {
     "data": {
      "image/png": "[encoded data removed]",
      "text/plain": [
       "<Figure size 432x288 with 1 Axes>"
      ]
     },
     "metadata": {
      "needs_background": "light"
     },
     "output_type": "display_data"
    }
   ],
   "source": [
    "import matplotlib.pyplot as plt\n",
    "plt.plot(history.history['loss'], label='train')\n",
    "plt.plot(history.history['val_loss'], label='validation')\n",
    "plt.legend()\n",
    "plt.show()"
   ]
  },
  {
   "cell_type": "code",
   "execution_count": 9,
   "metadata": {},
   "outputs": [
    {
     "data": {
      "image/png": "[encoded data removed]",
      "text/plain": [
       "<Figure size 432x288 with 1 Axes>"
      ]
     },
     "metadata": {
      "needs_background": "light"
     },
     "output_type": "display_data"
    }
   ],
   "source": [
    "# plt.plot(history.history['acc'], label='train')\n",
    "# plt.plot(history.history['val_acc'], label='validation')\n",
    "plt.plot(history.history['accuracy'], label='train')\n",
    "plt.plot(history.history['val_accuracy'], label='validation')\n",
    "plt.legend()\n",
    "plt.show()"
   ]
  },
  {
   "cell_type": "code",
   "execution_count": 10,
   "metadata": {},
   "outputs": [
    {
     "name": "stdout",
     "output_type": "stream",
     "text": [
      "Test set accuracy: 0.5342105263157895\n"
     ]
    }
   ],
   "source": [
    "test_predictions = np.argmax(model.predict(X_test), axis=1)\n",
    "accuracy = (test_predictions == y_test.values).sum() / y_test.values.shape[0]\n",
    "print(\"Test set accuracy:\", accuracy)"
   ]
  },
  {
   "cell_type": "code",
   "execution_count": 11,
   "metadata": {},
   "outputs": [
    {
     "name": "stdout",
     "output_type": "stream",
     "text": [
      "Y train\n",
      "Unique train labels: [0 1 2]\n",
      "Away win count: 757\n",
      "Draw count: 686\n",
      "Away win count: 1217\n"
     ]
    }
   ],
   "source": [
    "from sklearn.metrics import confusion_matrix\n",
    "print(\"Y train\")\n",
    "print(\"Unique train labels:\", np.unique(y_train.values))\n",
    "print(\"Away win count:\", (y_train==0).sum())\n",
    "print(\"Draw count:\", (y_train==1).sum())\n",
    "print(\"Away win count:\", (y_train==2).sum())"
   ]
  },
  {
   "cell_type": "code",
   "execution_count": 12,
   "metadata": {},
   "outputs": [
    {
     "name": "stdout",
     "output_type": "stream",
     "text": [
      "Train Prediction\n",
      "Unique train labels: [0 1 2]\n",
      "Away win count: 757\n",
      "Draw count: 686\n",
      "Home win count: 1217\n"
     ]
    }
   ],
   "source": [
    "print(\"Train Prediction\")\n",
    "train_predictions = np.argmax(model.predict(X_train), axis=1)\n",
    "print(\"Unique train labels:\", np.unique(train_predictions))\n",
    "print(\"Away win count:\", (y_train==0).sum())\n",
    "print(\"Draw count:\", (y_train==1).sum())\n",
    "print(\"Home win count:\", (y_train==2).sum())"
   ]
  },
  {
   "cell_type": "code",
   "execution_count": 13,
   "metadata": {},
   "outputs": [
    {
     "name": "stdout",
     "output_type": "stream",
     "text": [
      "Train Data\n"
     ]
    },
    {
     "data": {
      "text/html": [
       "<div>\n",
       "<style scoped>\n",
       "    .dataframe tbody tr th:only-of-type {\n",
       "        vertical-align: middle;\n",
       "    }\n",
       "\n",
       "    .dataframe tbody tr th {\n",
       "        vertical-align: top;\n",
       "    }\n",
       "\n",
       "    .dataframe thead th {\n",
       "        text-align: right;\n",
       "    }\n",
       "</style>\n",
       "<table border=\"1\" class=\"dataframe\">\n",
       "  <thead>\n",
       "    <tr style=\"text-align: right;\">\n",
       "      <th></th>\n",
       "      <th>pred home</th>\n",
       "      <th>pred draw</th>\n",
       "      <th>pred away</th>\n",
       "    </tr>\n",
       "  </thead>\n",
       "  <tbody>\n",
       "    <tr>\n",
       "      <th>true home</th>\n",
       "      <td>349</td>\n",
       "      <td>33</td>\n",
       "      <td>375</td>\n",
       "    </tr>\n",
       "    <tr>\n",
       "      <th>true draw</th>\n",
       "      <td>217</td>\n",
       "      <td>29</td>\n",
       "      <td>440</td>\n",
       "    </tr>\n",
       "    <tr>\n",
       "      <th>true away</th>\n",
       "      <td>210</td>\n",
       "      <td>29</td>\n",
       "      <td>978</td>\n",
       "    </tr>\n",
       "  </tbody>\n",
       "</table>\n",
       "</div>"
      ],
      "text/plain": [
       "           pred home  pred draw  pred away\n",
       "true home        349         33        375\n",
       "true draw        217         29        440\n",
       "true away        210         29        978"
      ]
     },
     "execution_count": 13,
     "metadata": {},
     "output_type": "execute_result"
    }
   ],
   "source": [
    "# Train\n",
    "df_conf_matrix = pd.DataFrame(confusion_matrix(y_train, train_predictions, labels=[0, 1, 2]), \n",
    "             index=['true home', 'true draw', 'true away'], columns=['pred home', 'pred draw', 'pred away'])\n",
    "print(\"Train Data\")\n",
    "df_conf_matrix"
   ]
  },
  {
   "cell_type": "code",
   "execution_count": 14,
   "metadata": {},
   "outputs": [
    {
     "name": "stdout",
     "output_type": "stream",
     "text": [
      "Test Data\n"
     ]
    },
    {
     "data": {
      "text/html": [
       "<div>\n",
       "<style scoped>\n",
       "    .dataframe tbody tr th:only-of-type {\n",
       "        vertical-align: middle;\n",
       "    }\n",
       "\n",
       "    .dataframe tbody tr th {\n",
       "        vertical-align: top;\n",
       "    }\n",
       "\n",
       "    .dataframe thead th {\n",
       "        text-align: right;\n",
       "    }\n",
       "</style>\n",
       "<table border=\"1\" class=\"dataframe\">\n",
       "  <thead>\n",
       "    <tr style=\"text-align: right;\">\n",
       "      <th></th>\n",
       "      <th>pred home</th>\n",
       "      <th>pred draw</th>\n",
       "      <th>pred away</th>\n",
       "    </tr>\n",
       "  </thead>\n",
       "  <tbody>\n",
       "    <tr>\n",
       "      <th>true home</th>\n",
       "      <td>60</td>\n",
       "      <td>6</td>\n",
       "      <td>44</td>\n",
       "    </tr>\n",
       "    <tr>\n",
       "      <th>true draw</th>\n",
       "      <td>20</td>\n",
       "      <td>3</td>\n",
       "      <td>74</td>\n",
       "    </tr>\n",
       "    <tr>\n",
       "      <th>true away</th>\n",
       "      <td>30</td>\n",
       "      <td>3</td>\n",
       "      <td>140</td>\n",
       "    </tr>\n",
       "  </tbody>\n",
       "</table>\n",
       "</div>"
      ],
      "text/plain": [
       "           pred home  pred draw  pred away\n",
       "true home         60          6         44\n",
       "true draw         20          3         74\n",
       "true away         30          3        140"
      ]
     },
     "execution_count": 14,
     "metadata": {},
     "output_type": "execute_result"
    }
   ],
   "source": [
    "# Test\n",
    "df_conf_matrix = pd.DataFrame(confusion_matrix(y_test, test_predictions, labels=[0, 1, 2]), \n",
    "             index=['true home', 'true draw', 'true away'], columns=['pred home', 'pred draw', 'pred away'])\n",
    "print(\"Test Data\")\n",
    "df_conf_matrix"
   ]
  },
  {
   "cell_type": "markdown",
   "metadata": {},
   "source": [
    "## Stupid models\n",
    "\n",
    "####  accumulation history goal"
   ]
  },
  {
   "cell_type": "code",
   "execution_count": 15,
   "metadata": {},
   "outputs": [
    {
     "name": "stdout",
     "output_type": "stream",
     "text": [
      "Test set accuracy goal_score_history: 0.4605263157894737\n"
     ]
    }
   ],
   "source": [
    "def get_accuracy(test_preidction, y_test):\n",
    "    return (test_predictions == y_test.values).sum() / y_test.values.shape[0]\n",
    "\n",
    "def goal_score_history(X_test):\n",
    "    my_pred_h =  2*(X_test['HTGS'] > X_test['ATGS'])\n",
    "    my_pred_a =  0*(X_test['HTGS'] < X_test['ATGS'])\n",
    "    my_pred_d =  1*(X_test['HTGS'] == X_test['ATGS'])\n",
    "    my_pred = my_pred_h + my_pred_a + my_pred_d\n",
    "    return my_pred\n",
    "\n",
    "# print(X_test.loc[10,:])\n",
    "# print(list(pred_on_gs(X_test)))\n",
    "# print(y_test)\n",
    "# print(ftrLE.inverse_transform(pred_on_gs(X_test)))\n",
    "test_predictions = list(goal_score_history(X_test))\n",
    "print(\"Test set accuracy goal_score_history:\", get_accuracy(test_predictions,y_test))"
   ]
  },
  {
   "cell_type": "markdown",
   "metadata": {},
   "source": [
    "#### always home, away, draw"
   ]
  },
  {
   "cell_type": "code",
   "execution_count": 16,
   "metadata": {},
   "outputs": [
    {
     "name": "stdout",
     "output_type": "stream",
     "text": [
      "Test set accuracy home_always_win: 0.45526315789473687\n",
      "Test set accuracy away_always_win: 0.2894736842105263\n",
      "Test set accuracy always_draw: 0.25526315789473686\n"
     ]
    }
   ],
   "source": [
    "def home_always_win(X_test):\n",
    "    return [2] * X_test.shape[0]\n",
    "\n",
    "def away_always_win(X_test):\n",
    "    return [0] * X_test.shape[0]\n",
    "\n",
    "def always_draw(X_test):\n",
    "    return [1] * X_test.shape[0]\n",
    "\n",
    "\n",
    "test_predictions = list(home_always_win(X_test))\n",
    "print(\"Test set accuracy home_always_win:\", get_accuracy(test_predictions,y_test))\n",
    "\n",
    "test_predictions = list(away_always_win(X_test))\n",
    "print(\"Test set accuracy away_always_win:\", get_accuracy(test_predictions,y_test))\n",
    "\n",
    "test_predictions = list(always_draw(X_test))\n",
    "print(\"Test set accuracy always_draw:\", get_accuracy(test_predictions,y_test))"
   ]
  },
  {
   "cell_type": "markdown",
   "metadata": {},
   "source": [
    "#### "
   ]
  },
  {
   "cell_type": "code",
   "execution_count": 17,
   "metadata": {},
   "outputs": [
    {
     "name": "stdout",
     "output_type": "stream",
     "text": [
      "Test set accuracy random_distribution_to_the_train: 0.3605263157894737\n"
     ]
    }
   ],
   "source": [
    "def random_distribution_to_the_train(X_train,y_train,X_test):\n",
    "    distribution = [len(y_train[y_train == 0]),len(y_train[y_train == 1]),len(y_train[y_train == 2])]\n",
    "    distribution = np.array(distribution)/sum(distribution)\n",
    "    result = []\n",
    "    for i in range(len(X_test)):\n",
    "        result.append(np.random.choice([0,1,2], p=distribution))\n",
    "    return np.array(result)\n",
    "\n",
    "\n",
    "result = random_distribution_to_the_train(X_train,y_train,X_test)\n",
    "\n",
    "test_predictions = list(random_distribution_to_the_train(X_train,y_train,X_test))\n",
    "print(\"Test set accuracy random_distribution_to_the_train:\", get_accuracy(test_predictions,y_test))"
   ]
  }
 ],
 "metadata": {
  "kernelspec": {
   "display_name": "Python 3",
   "language": "python",
   "name": "python3"
  },
  "language_info": {
   "codemirror_mode": {
    "name": "ipython",
    "version": 3
   },
   "file_extension": ".py",
   "mimetype": "text/x-python",
   "name": "python",
   "nbconvert_exporter": "python",
   "pygments_lexer": "ipython3",
   "version": "3.6.7"
  }
 },
 "nbformat": 4,
 "nbformat_minor": 2
}
