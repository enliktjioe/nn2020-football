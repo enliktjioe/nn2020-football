{
 "cells": [
  {
   "cell_type": "markdown",
   "metadata": {},
   "source": [
    "# Betting by the odds"
   ]
  },
  {
   "cell_type": "code",
   "execution_count": 9,
   "metadata": {},
   "outputs": [],
   "source": [
    "import numpy as np # linear algebra\n",
    "import pandas as pd # data processing, CSV file I/O (e.g. pd.read_csv)\n",
    "import matplotlib.pyplot as plt\n",
    "pd.set_option('display.max_columns', 500)"
   ]
  },
  {
   "cell_type": "code",
   "execution_count": 155,
   "metadata": {},
   "outputs": [],
   "source": [
    "dataEPL =pd.read_csv(\"datasets/EPL_sort.csv\")\n",
    "dataLaliga =pd.read_csv(\"datasets/LaLiga_sort.csv\")"
   ]
  },
  {
   "cell_type": "code",
   "execution_count": 156,
   "metadata": {},
   "outputs": [
    {
     "data": {
      "text/html": [
       "<div>\n",
       "<style scoped>\n",
       "    .dataframe tbody tr th:only-of-type {\n",
       "        vertical-align: middle;\n",
       "    }\n",
       "\n",
       "    .dataframe tbody tr th {\n",
       "        vertical-align: top;\n",
       "    }\n",
       "\n",
       "    .dataframe thead th {\n",
       "        text-align: right;\n",
       "    }\n",
       "</style>\n",
       "<table border=\"1\" class=\"dataframe\">\n",
       "  <thead>\n",
       "    <tr style=\"text-align: right;\">\n",
       "      <th></th>\n",
       "      <th>Unnamed: 0</th>\n",
       "      <th>id</th>\n",
       "      <th>season</th>\n",
       "      <th>stage</th>\n",
       "      <th>date</th>\n",
       "      <th>match_api_id</th>\n",
       "      <th>home_team_api_id</th>\n",
       "      <th>away_team_api_id</th>\n",
       "      <th>home_team_goal</th>\n",
       "      <th>away_team_goal</th>\n",
       "      <th>B365H</th>\n",
       "      <th>B365D</th>\n",
       "      <th>B365A</th>\n",
       "      <th>home_y_card</th>\n",
       "      <th>home_r_card</th>\n",
       "      <th>away_y_card</th>\n",
       "      <th>away_r_card</th>\n",
       "      <th>home_shoton</th>\n",
       "      <th>away_shoton</th>\n",
       "      <th>home_shotoff</th>\n",
       "      <th>away_shotoff</th>\n",
       "      <th>home_foulcommit</th>\n",
       "      <th>away_foulcommit</th>\n",
       "      <th>home_cross</th>\n",
       "      <th>away_cross</th>\n",
       "      <th>home_corner</th>\n",
       "      <th>away_corner</th>\n",
       "      <th>home_possession</th>\n",
       "      <th>away_possession</th>\n",
       "      <th>HTP</th>\n",
       "      <th>ATP</th>\n",
       "      <th>Result</th>\n",
       "    </tr>\n",
       "  </thead>\n",
       "  <tbody>\n",
       "    <tr>\n",
       "      <td>0</td>\n",
       "      <td>1</td>\n",
       "      <td>1730</td>\n",
       "      <td>2008/2009</td>\n",
       "      <td>1</td>\n",
       "      <td>2008-08-16 00:00:00</td>\n",
       "      <td>489043</td>\n",
       "      <td>Arsenal</td>\n",
       "      <td>West Bromwich Albion</td>\n",
       "      <td>1</td>\n",
       "      <td>0</td>\n",
       "      <td>1.20</td>\n",
       "      <td>6.50</td>\n",
       "      <td>15.00</td>\n",
       "      <td>0</td>\n",
       "      <td>0</td>\n",
       "      <td>0</td>\n",
       "      <td>0</td>\n",
       "      <td>12</td>\n",
       "      <td>2</td>\n",
       "      <td>13</td>\n",
       "      <td>3</td>\n",
       "      <td>11</td>\n",
       "      <td>9</td>\n",
       "      <td>21</td>\n",
       "      <td>7</td>\n",
       "      <td>7</td>\n",
       "      <td>5</td>\n",
       "      <td>66</td>\n",
       "      <td>34</td>\n",
       "      <td>0</td>\n",
       "      <td>0</td>\n",
       "      <td>H</td>\n",
       "    </tr>\n",
       "    <tr>\n",
       "      <td>1</td>\n",
       "      <td>7</td>\n",
       "      <td>1736</td>\n",
       "      <td>2008/2009</td>\n",
       "      <td>1</td>\n",
       "      <td>2008-08-16 00:00:00</td>\n",
       "      <td>489049</td>\n",
       "      <td>Bolton Wanderers</td>\n",
       "      <td>Stoke City</td>\n",
       "      <td>3</td>\n",
       "      <td>1</td>\n",
       "      <td>1.83</td>\n",
       "      <td>3.50</td>\n",
       "      <td>4.50</td>\n",
       "      <td>1</td>\n",
       "      <td>0</td>\n",
       "      <td>2</td>\n",
       "      <td>0</td>\n",
       "      <td>5</td>\n",
       "      <td>1</td>\n",
       "      <td>7</td>\n",
       "      <td>6</td>\n",
       "      <td>14</td>\n",
       "      <td>15</td>\n",
       "      <td>22</td>\n",
       "      <td>29</td>\n",
       "      <td>4</td>\n",
       "      <td>3</td>\n",
       "      <td>47</td>\n",
       "      <td>53</td>\n",
       "      <td>0</td>\n",
       "      <td>0</td>\n",
       "      <td>H</td>\n",
       "    </tr>\n",
       "    <tr>\n",
       "      <td>2</td>\n",
       "      <td>5</td>\n",
       "      <td>1734</td>\n",
       "      <td>2008/2009</td>\n",
       "      <td>1</td>\n",
       "      <td>2008-08-16 00:00:00</td>\n",
       "      <td>489047</td>\n",
       "      <td>Everton</td>\n",
       "      <td>Blackburn Rovers</td>\n",
       "      <td>2</td>\n",
       "      <td>3</td>\n",
       "      <td>2.00</td>\n",
       "      <td>3.30</td>\n",
       "      <td>4.00</td>\n",
       "      <td>2</td>\n",
       "      <td>0</td>\n",
       "      <td>2</td>\n",
       "      <td>0</td>\n",
       "      <td>2</td>\n",
       "      <td>8</td>\n",
       "      <td>7</td>\n",
       "      <td>8</td>\n",
       "      <td>11</td>\n",
       "      <td>11</td>\n",
       "      <td>14</td>\n",
       "      <td>21</td>\n",
       "      <td>3</td>\n",
       "      <td>4</td>\n",
       "      <td>51</td>\n",
       "      <td>49</td>\n",
       "      <td>0</td>\n",
       "      <td>0</td>\n",
       "      <td>A</td>\n",
       "    </tr>\n",
       "    <tr>\n",
       "      <td>3</td>\n",
       "      <td>8</td>\n",
       "      <td>1737</td>\n",
       "      <td>2008/2009</td>\n",
       "      <td>1</td>\n",
       "      <td>2008-08-16 00:00:00</td>\n",
       "      <td>489050</td>\n",
       "      <td>Hull City</td>\n",
       "      <td>Fulham</td>\n",
       "      <td>2</td>\n",
       "      <td>1</td>\n",
       "      <td>2.60</td>\n",
       "      <td>3.20</td>\n",
       "      <td>2.80</td>\n",
       "      <td>3</td>\n",
       "      <td>0</td>\n",
       "      <td>0</td>\n",
       "      <td>0</td>\n",
       "      <td>5</td>\n",
       "      <td>4</td>\n",
       "      <td>5</td>\n",
       "      <td>6</td>\n",
       "      <td>10</td>\n",
       "      <td>9</td>\n",
       "      <td>16</td>\n",
       "      <td>14</td>\n",
       "      <td>5</td>\n",
       "      <td>6</td>\n",
       "      <td>53</td>\n",
       "      <td>47</td>\n",
       "      <td>0</td>\n",
       "      <td>0</td>\n",
       "      <td>H</td>\n",
       "    </tr>\n",
       "    <tr>\n",
       "      <td>4</td>\n",
       "      <td>6</td>\n",
       "      <td>1735</td>\n",
       "      <td>2008/2009</td>\n",
       "      <td>1</td>\n",
       "      <td>2008-08-16 00:00:00</td>\n",
       "      <td>489048</td>\n",
       "      <td>Middlesbrough</td>\n",
       "      <td>Tottenham Hotspur</td>\n",
       "      <td>2</td>\n",
       "      <td>1</td>\n",
       "      <td>3.20</td>\n",
       "      <td>3.40</td>\n",
       "      <td>2.25</td>\n",
       "      <td>1</td>\n",
       "      <td>0</td>\n",
       "      <td>2</td>\n",
       "      <td>0</td>\n",
       "      <td>7</td>\n",
       "      <td>2</td>\n",
       "      <td>5</td>\n",
       "      <td>5</td>\n",
       "      <td>11</td>\n",
       "      <td>11</td>\n",
       "      <td>25</td>\n",
       "      <td>27</td>\n",
       "      <td>7</td>\n",
       "      <td>9</td>\n",
       "      <td>53</td>\n",
       "      <td>47</td>\n",
       "      <td>0</td>\n",
       "      <td>0</td>\n",
       "      <td>H</td>\n",
       "    </tr>\n",
       "    <tr>\n",
       "      <td>...</td>\n",
       "      <td>...</td>\n",
       "      <td>...</td>\n",
       "      <td>...</td>\n",
       "      <td>...</td>\n",
       "      <td>...</td>\n",
       "      <td>...</td>\n",
       "      <td>...</td>\n",
       "      <td>...</td>\n",
       "      <td>...</td>\n",
       "      <td>...</td>\n",
       "      <td>...</td>\n",
       "      <td>...</td>\n",
       "      <td>...</td>\n",
       "      <td>...</td>\n",
       "      <td>...</td>\n",
       "      <td>...</td>\n",
       "      <td>...</td>\n",
       "      <td>...</td>\n",
       "      <td>...</td>\n",
       "      <td>...</td>\n",
       "      <td>...</td>\n",
       "      <td>...</td>\n",
       "      <td>...</td>\n",
       "      <td>...</td>\n",
       "      <td>...</td>\n",
       "      <td>...</td>\n",
       "      <td>...</td>\n",
       "      <td>...</td>\n",
       "      <td>...</td>\n",
       "      <td>...</td>\n",
       "      <td>...</td>\n",
       "      <td>...</td>\n",
       "    </tr>\n",
       "    <tr>\n",
       "      <td>3035</td>\n",
       "      <td>2976</td>\n",
       "      <td>4705</td>\n",
       "      <td>2015/2016</td>\n",
       "      <td>38</td>\n",
       "      <td>2016-05-15 00:00:00</td>\n",
       "      <td>1987603</td>\n",
       "      <td>Stoke City</td>\n",
       "      <td>West Ham United</td>\n",
       "      <td>2</td>\n",
       "      <td>1</td>\n",
       "      <td>3.50</td>\n",
       "      <td>3.60</td>\n",
       "      <td>2.15</td>\n",
       "      <td>3</td>\n",
       "      <td>0</td>\n",
       "      <td>1</td>\n",
       "      <td>0</td>\n",
       "      <td>3</td>\n",
       "      <td>10</td>\n",
       "      <td>2</td>\n",
       "      <td>7</td>\n",
       "      <td>8</td>\n",
       "      <td>12</td>\n",
       "      <td>13</td>\n",
       "      <td>18</td>\n",
       "      <td>4</td>\n",
       "      <td>10</td>\n",
       "      <td>45</td>\n",
       "      <td>55</td>\n",
       "      <td>48</td>\n",
       "      <td>62</td>\n",
       "      <td>H</td>\n",
       "    </tr>\n",
       "    <tr>\n",
       "      <td>3036</td>\n",
       "      <td>2977</td>\n",
       "      <td>4706</td>\n",
       "      <td>2015/2016</td>\n",
       "      <td>38</td>\n",
       "      <td>2016-05-15 00:00:00</td>\n",
       "      <td>1987604</td>\n",
       "      <td>Swansea City</td>\n",
       "      <td>Manchester City</td>\n",
       "      <td>1</td>\n",
       "      <td>1</td>\n",
       "      <td>6.00</td>\n",
       "      <td>4.75</td>\n",
       "      <td>1.53</td>\n",
       "      <td>1</td>\n",
       "      <td>0</td>\n",
       "      <td>3</td>\n",
       "      <td>0</td>\n",
       "      <td>1</td>\n",
       "      <td>5</td>\n",
       "      <td>2</td>\n",
       "      <td>12</td>\n",
       "      <td>5</td>\n",
       "      <td>19</td>\n",
       "      <td>14</td>\n",
       "      <td>15</td>\n",
       "      <td>4</td>\n",
       "      <td>4</td>\n",
       "      <td>50</td>\n",
       "      <td>50</td>\n",
       "      <td>46</td>\n",
       "      <td>65</td>\n",
       "      <td>D</td>\n",
       "    </tr>\n",
       "    <tr>\n",
       "      <td>3037</td>\n",
       "      <td>2978</td>\n",
       "      <td>4707</td>\n",
       "      <td>2015/2016</td>\n",
       "      <td>38</td>\n",
       "      <td>2016-05-15 00:00:00</td>\n",
       "      <td>1987605</td>\n",
       "      <td>Watford</td>\n",
       "      <td>Sunderland</td>\n",
       "      <td>2</td>\n",
       "      <td>2</td>\n",
       "      <td>2.05</td>\n",
       "      <td>3.75</td>\n",
       "      <td>3.70</td>\n",
       "      <td>1</td>\n",
       "      <td>0</td>\n",
       "      <td>0</td>\n",
       "      <td>0</td>\n",
       "      <td>6</td>\n",
       "      <td>2</td>\n",
       "      <td>10</td>\n",
       "      <td>2</td>\n",
       "      <td>10</td>\n",
       "      <td>9</td>\n",
       "      <td>9</td>\n",
       "      <td>12</td>\n",
       "      <td>7</td>\n",
       "      <td>4</td>\n",
       "      <td>49</td>\n",
       "      <td>51</td>\n",
       "      <td>44</td>\n",
       "      <td>38</td>\n",
       "      <td>D</td>\n",
       "    </tr>\n",
       "    <tr>\n",
       "      <td>3038</td>\n",
       "      <td>2979</td>\n",
       "      <td>4708</td>\n",
       "      <td>2015/2016</td>\n",
       "      <td>38</td>\n",
       "      <td>2016-05-15 00:00:00</td>\n",
       "      <td>1987606</td>\n",
       "      <td>West Bromwich Albion</td>\n",
       "      <td>Liverpool</td>\n",
       "      <td>1</td>\n",
       "      <td>1</td>\n",
       "      <td>2.40</td>\n",
       "      <td>3.60</td>\n",
       "      <td>3.00</td>\n",
       "      <td>3</td>\n",
       "      <td>0</td>\n",
       "      <td>1</td>\n",
       "      <td>0</td>\n",
       "      <td>5</td>\n",
       "      <td>3</td>\n",
       "      <td>8</td>\n",
       "      <td>3</td>\n",
       "      <td>12</td>\n",
       "      <td>13</td>\n",
       "      <td>12</td>\n",
       "      <td>14</td>\n",
       "      <td>7</td>\n",
       "      <td>5</td>\n",
       "      <td>33</td>\n",
       "      <td>67</td>\n",
       "      <td>42</td>\n",
       "      <td>59</td>\n",
       "      <td>D</td>\n",
       "    </tr>\n",
       "    <tr>\n",
       "      <td>3039</td>\n",
       "      <td>2973</td>\n",
       "      <td>4702</td>\n",
       "      <td>2015/2016</td>\n",
       "      <td>38</td>\n",
       "      <td>2016-05-17 00:00:00</td>\n",
       "      <td>1987600</td>\n",
       "      <td>Manchester United</td>\n",
       "      <td>Bournemouth</td>\n",
       "      <td>3</td>\n",
       "      <td>1</td>\n",
       "      <td>1.67</td>\n",
       "      <td>4.20</td>\n",
       "      <td>5.25</td>\n",
       "      <td>1</td>\n",
       "      <td>0</td>\n",
       "      <td>0</td>\n",
       "      <td>0</td>\n",
       "      <td>5</td>\n",
       "      <td>5</td>\n",
       "      <td>4</td>\n",
       "      <td>2</td>\n",
       "      <td>9</td>\n",
       "      <td>8</td>\n",
       "      <td>16</td>\n",
       "      <td>5</td>\n",
       "      <td>7</td>\n",
       "      <td>1</td>\n",
       "      <td>68</td>\n",
       "      <td>32</td>\n",
       "      <td>63</td>\n",
       "      <td>42</td>\n",
       "      <td>H</td>\n",
       "    </tr>\n",
       "  </tbody>\n",
       "</table>\n",
       "<p>3040 rows × 32 columns</p>\n",
       "</div>"
      ],
      "text/plain": [
       "      Unnamed: 0    id     season  stage                 date  match_api_id  \\\n",
       "0              1  1730  2008/2009      1  2008-08-16 00:00:00        489043   \n",
       "1              7  1736  2008/2009      1  2008-08-16 00:00:00        489049   \n",
       "2              5  1734  2008/2009      1  2008-08-16 00:00:00        489047   \n",
       "3              8  1737  2008/2009      1  2008-08-16 00:00:00        489050   \n",
       "4              6  1735  2008/2009      1  2008-08-16 00:00:00        489048   \n",
       "...          ...   ...        ...    ...                  ...           ...   \n",
       "3035        2976  4705  2015/2016     38  2016-05-15 00:00:00       1987603   \n",
       "3036        2977  4706  2015/2016     38  2016-05-15 00:00:00       1987604   \n",
       "3037        2978  4707  2015/2016     38  2016-05-15 00:00:00       1987605   \n",
       "3038        2979  4708  2015/2016     38  2016-05-15 00:00:00       1987606   \n",
       "3039        2973  4702  2015/2016     38  2016-05-17 00:00:00       1987600   \n",
       "\n",
       "          home_team_api_id      away_team_api_id  home_team_goal  \\\n",
       "0                  Arsenal  West Bromwich Albion               1   \n",
       "1         Bolton Wanderers            Stoke City               3   \n",
       "2                  Everton      Blackburn Rovers               2   \n",
       "3                Hull City                Fulham               2   \n",
       "4            Middlesbrough     Tottenham Hotspur               2   \n",
       "...                    ...                   ...             ...   \n",
       "3035            Stoke City       West Ham United               2   \n",
       "3036          Swansea City       Manchester City               1   \n",
       "3037               Watford            Sunderland               2   \n",
       "3038  West Bromwich Albion             Liverpool               1   \n",
       "3039     Manchester United           Bournemouth               3   \n",
       "\n",
       "      away_team_goal  B365H  B365D  B365A  home_y_card  home_r_card  \\\n",
       "0                  0   1.20   6.50  15.00            0            0   \n",
       "1                  1   1.83   3.50   4.50            1            0   \n",
       "2                  3   2.00   3.30   4.00            2            0   \n",
       "3                  1   2.60   3.20   2.80            3            0   \n",
       "4                  1   3.20   3.40   2.25            1            0   \n",
       "...              ...    ...    ...    ...          ...          ...   \n",
       "3035               1   3.50   3.60   2.15            3            0   \n",
       "3036               1   6.00   4.75   1.53            1            0   \n",
       "3037               2   2.05   3.75   3.70            1            0   \n",
       "3038               1   2.40   3.60   3.00            3            0   \n",
       "3039               1   1.67   4.20   5.25            1            0   \n",
       "\n",
       "      away_y_card  away_r_card  home_shoton  away_shoton  home_shotoff  \\\n",
       "0               0            0           12            2            13   \n",
       "1               2            0            5            1             7   \n",
       "2               2            0            2            8             7   \n",
       "3               0            0            5            4             5   \n",
       "4               2            0            7            2             5   \n",
       "...           ...          ...          ...          ...           ...   \n",
       "3035            1            0            3           10             2   \n",
       "3036            3            0            1            5             2   \n",
       "3037            0            0            6            2            10   \n",
       "3038            1            0            5            3             8   \n",
       "3039            0            0            5            5             4   \n",
       "\n",
       "      away_shotoff  home_foulcommit  away_foulcommit  home_cross  away_cross  \\\n",
       "0                3               11                9          21           7   \n",
       "1                6               14               15          22          29   \n",
       "2                8               11               11          14          21   \n",
       "3                6               10                9          16          14   \n",
       "4                5               11               11          25          27   \n",
       "...            ...              ...              ...         ...         ...   \n",
       "3035             7                8               12          13          18   \n",
       "3036            12                5               19          14          15   \n",
       "3037             2               10                9           9          12   \n",
       "3038             3               12               13          12          14   \n",
       "3039             2                9                8          16           5   \n",
       "\n",
       "      home_corner  away_corner  home_possession  away_possession  HTP  ATP  \\\n",
       "0               7            5               66               34    0    0   \n",
       "1               4            3               47               53    0    0   \n",
       "2               3            4               51               49    0    0   \n",
       "3               5            6               53               47    0    0   \n",
       "4               7            9               53               47    0    0   \n",
       "...           ...          ...              ...              ...  ...  ...   \n",
       "3035            4           10               45               55   48   62   \n",
       "3036            4            4               50               50   46   65   \n",
       "3037            7            4               49               51   44   38   \n",
       "3038            7            5               33               67   42   59   \n",
       "3039            7            1               68               32   63   42   \n",
       "\n",
       "     Result  \n",
       "0         H  \n",
       "1         H  \n",
       "2         A  \n",
       "3         H  \n",
       "4         H  \n",
       "...     ...  \n",
       "3035      H  \n",
       "3036      D  \n",
       "3037      D  \n",
       "3038      D  \n",
       "3039      H  \n",
       "\n",
       "[3040 rows x 32 columns]"
      ]
     },
     "execution_count": 156,
     "metadata": {},
     "output_type": "execute_result"
    }
   ],
   "source": [
    "dataEPL"
   ]
  },
  {
   "cell_type": "code",
   "execution_count": 157,
   "metadata": {},
   "outputs": [],
   "source": [
    "columns = ['B365H','B365D','B365A']\n",
    "X = dataEPL[columns]"
   ]
  },
  {
   "cell_type": "code",
   "execution_count": 158,
   "metadata": {},
   "outputs": [
    {
     "data": {
      "text/html": [
       "<div>\n",
       "<style scoped>\n",
       "    .dataframe tbody tr th:only-of-type {\n",
       "        vertical-align: middle;\n",
       "    }\n",
       "\n",
       "    .dataframe tbody tr th {\n",
       "        vertical-align: top;\n",
       "    }\n",
       "\n",
       "    .dataframe thead th {\n",
       "        text-align: right;\n",
       "    }\n",
       "</style>\n",
       "<table border=\"1\" class=\"dataframe\">\n",
       "  <thead>\n",
       "    <tr style=\"text-align: right;\">\n",
       "      <th></th>\n",
       "      <th>B365H</th>\n",
       "      <th>B365D</th>\n",
       "      <th>B365A</th>\n",
       "    </tr>\n",
       "  </thead>\n",
       "  <tbody>\n",
       "    <tr>\n",
       "      <td>0</td>\n",
       "      <td>1.20</td>\n",
       "      <td>6.50</td>\n",
       "      <td>15.00</td>\n",
       "    </tr>\n",
       "    <tr>\n",
       "      <td>1</td>\n",
       "      <td>1.83</td>\n",
       "      <td>3.50</td>\n",
       "      <td>4.50</td>\n",
       "    </tr>\n",
       "    <tr>\n",
       "      <td>2</td>\n",
       "      <td>2.00</td>\n",
       "      <td>3.30</td>\n",
       "      <td>4.00</td>\n",
       "    </tr>\n",
       "    <tr>\n",
       "      <td>3</td>\n",
       "      <td>2.60</td>\n",
       "      <td>3.20</td>\n",
       "      <td>2.80</td>\n",
       "    </tr>\n",
       "    <tr>\n",
       "      <td>4</td>\n",
       "      <td>3.20</td>\n",
       "      <td>3.40</td>\n",
       "      <td>2.25</td>\n",
       "    </tr>\n",
       "    <tr>\n",
       "      <td>...</td>\n",
       "      <td>...</td>\n",
       "      <td>...</td>\n",
       "      <td>...</td>\n",
       "    </tr>\n",
       "    <tr>\n",
       "      <td>3035</td>\n",
       "      <td>3.50</td>\n",
       "      <td>3.60</td>\n",
       "      <td>2.15</td>\n",
       "    </tr>\n",
       "    <tr>\n",
       "      <td>3036</td>\n",
       "      <td>6.00</td>\n",
       "      <td>4.75</td>\n",
       "      <td>1.53</td>\n",
       "    </tr>\n",
       "    <tr>\n",
       "      <td>3037</td>\n",
       "      <td>2.05</td>\n",
       "      <td>3.75</td>\n",
       "      <td>3.70</td>\n",
       "    </tr>\n",
       "    <tr>\n",
       "      <td>3038</td>\n",
       "      <td>2.40</td>\n",
       "      <td>3.60</td>\n",
       "      <td>3.00</td>\n",
       "    </tr>\n",
       "    <tr>\n",
       "      <td>3039</td>\n",
       "      <td>1.67</td>\n",
       "      <td>4.20</td>\n",
       "      <td>5.25</td>\n",
       "    </tr>\n",
       "  </tbody>\n",
       "</table>\n",
       "<p>3040 rows × 3 columns</p>\n",
       "</div>"
      ],
      "text/plain": [
       "      B365H  B365D  B365A\n",
       "0      1.20   6.50  15.00\n",
       "1      1.83   3.50   4.50\n",
       "2      2.00   3.30   4.00\n",
       "3      2.60   3.20   2.80\n",
       "4      3.20   3.40   2.25\n",
       "...     ...    ...    ...\n",
       "3035   3.50   3.60   2.15\n",
       "3036   6.00   4.75   1.53\n",
       "3037   2.05   3.75   3.70\n",
       "3038   2.40   3.60   3.00\n",
       "3039   1.67   4.20   5.25\n",
       "\n",
       "[3040 rows x 3 columns]"
      ]
     },
     "execution_count": 158,
     "metadata": {},
     "output_type": "execute_result"
    }
   ],
   "source": [
    "X"
   ]
  },
  {
   "cell_type": "code",
   "execution_count": 19,
   "metadata": {},
   "outputs": [
    {
     "data": {
      "text/plain": [
       "B365H     1.2\n",
       "B365D     6.5\n",
       "B365A    15.0\n",
       "Name: 0, dtype: float64"
      ]
     },
     "execution_count": 19,
     "metadata": {},
     "output_type": "execute_result"
    }
   ],
   "source": [
    "X.loc[0]"
   ]
  },
  {
   "cell_type": "code",
   "execution_count": 159,
   "metadata": {},
   "outputs": [
    {
     "data": {
      "text/plain": [
       "'H'"
      ]
     },
     "execution_count": 159,
     "metadata": {},
     "output_type": "execute_result"
    }
   ],
   "source": [
    "Y = dataEPL.Result\n",
    "y_true = Y.tolist()\n",
    "y_true[0]"
   ]
  },
  {
   "cell_type": "code",
   "execution_count": 160,
   "metadata": {},
   "outputs": [],
   "source": [
    "#from sklearn.preprocessing import LabelEncoder\n",
    "#ftrLE=LabelEncoder()\n",
    "#Y =ftrLE.fit_transform(Y)"
   ]
  },
  {
   "cell_type": "code",
   "execution_count": 161,
   "metadata": {},
   "outputs": [
    {
     "data": {
      "text/plain": [
       "0       H\n",
       "1       H\n",
       "2       A\n",
       "3       H\n",
       "4       H\n",
       "       ..\n",
       "3035    H\n",
       "3036    D\n",
       "3037    D\n",
       "3038    D\n",
       "3039    H\n",
       "Name: Result, Length: 3040, dtype: object"
      ]
     },
     "execution_count": 161,
     "metadata": {},
     "output_type": "execute_result"
    }
   ],
   "source": [
    "Y"
   ]
  },
  {
   "cell_type": "markdown",
   "metadata": {},
   "source": [
    "## betting odds in favour strategy"
   ]
  },
  {
   "cell_type": "code",
   "execution_count": 142,
   "metadata": {},
   "outputs": [],
   "source": [
    "def bet(odds, strategy):\n",
    "    predict = None\n",
    "    if strategy == 'favour':\n",
    "        target_odd = odds.idxmin()\n",
    "        odd = odds.min()\n",
    "    elif strategy == 'against':\n",
    "        target_odd = odds.idxmax()\n",
    "        odd = odds.max()\n",
    "    if target_odd == 'B365H':\n",
    "        predict = 'H'\n",
    "    elif target_odd =='B365D':\n",
    "        predict = 'D'\n",
    "    else:\n",
    "        predict = 'A'\n",
    "    return predict, odd    "
   ]
  },
  {
   "cell_type": "code",
   "execution_count": 162,
   "metadata": {},
   "outputs": [],
   "source": [
    "y_pred =[]\n",
    "for i in range(len(X)):\n",
    "    pred, odd = bet(X.loc[i],'favour')\n",
    "    y_pred.append(pred)"
   ]
  },
  {
   "cell_type": "code",
   "execution_count": 163,
   "metadata": {},
   "outputs": [
    {
     "name": "stdout",
     "output_type": "stream",
     "text": [
      "EPL Accuracy =  0.5332236842105263\n"
     ]
    }
   ],
   "source": [
    "print(\"EPL Accuracy = \", sum(1 for x,y in zip(y_pred,y_true) if x == y) / len(y_pred))"
   ]
  },
  {
   "cell_type": "code",
   "execution_count": 170,
   "metadata": {},
   "outputs": [],
   "source": [
    "#change dataset to laliga\n",
    "columns = ['B365H','B365D','B365A']\n",
    "X = dataLaliga[columns]\n",
    "Y = dataLaliga.Result\n",
    "y_true = Y.tolist()"
   ]
  },
  {
   "cell_type": "code",
   "execution_count": 171,
   "metadata": {},
   "outputs": [],
   "source": [
    "y_pred =[]\n",
    "for i in range(len(X)):\n",
    "    pred, odd = bet(X.loc[i],'favour')\n",
    "    y_pred.append(pred)"
   ]
  },
  {
   "cell_type": "code",
   "execution_count": 172,
   "metadata": {},
   "outputs": [
    {
     "name": "stdout",
     "output_type": "stream",
     "text": [
      "La Liga Accuracy =  0.5625\n"
     ]
    }
   ],
   "source": [
    "print(\"La Liga Accuracy = \", sum(1 for x,y in zip(y_pred,y_true) if x == y) / len(y_pred))"
   ]
  },
  {
   "cell_type": "markdown",
   "metadata": {},
   "source": [
    "### Betting Simulation"
   ]
  },
  {
   "cell_type": "code",
   "execution_count": 173,
   "metadata": {},
   "outputs": [],
   "source": [
    "y_pred =[]\n",
    "money = 1000\n",
    "for i in range(len(X)):\n",
    "    money = money - 10\n",
    "    pred, odd = bet(X.loc[i],'favour')\n",
    "    if(pred == y_true[i]):\n",
    "        money += 10 * float(odd)\n",
    "        #print(\"won bet, money balance =\",money)\n",
    "    #else:\n",
    "        #print(\"lost bet, money balance =\",money)"
   ]
  },
  {
   "cell_type": "code",
   "execution_count": 169,
   "metadata": {},
   "outputs": [
    {
     "name": "stdout",
     "output_type": "stream",
     "text": [
      "Final Money Balance (La liga) 530.5999999999975\n"
     ]
    }
   ],
   "source": [
    "print(\"Final Money Balance (La liga)\", money)"
   ]
  },
  {
   "cell_type": "code",
   "execution_count": 174,
   "metadata": {},
   "outputs": [],
   "source": [
    "#change dataset to epl\n",
    "columns = ['B365H','B365D','B365A']\n",
    "X = dataEPL[columns]\n",
    "Y = dataEPL.Result\n",
    "y_true = Y.tolist()"
   ]
  },
  {
   "cell_type": "code",
   "execution_count": 175,
   "metadata": {},
   "outputs": [],
   "source": [
    "y_pred =[]\n",
    "money = 1000\n",
    "for i in range(len(X)):\n",
    "    money = money - 10\n",
    "    pred, odd = bet(X.loc[i],'favour')\n",
    "    if(pred == y_true[i]):\n",
    "        money += 10 * float(odd)\n",
    "        #print(\"won bet, money balance =\",money)\n",
    "    #else:\n",
    "        #print(\"lost bet, money balance =\",money)"
   ]
  },
  {
   "cell_type": "code",
   "execution_count": 176,
   "metadata": {},
   "outputs": [
    {
     "name": "stdout",
     "output_type": "stream",
     "text": [
      "Final Money Balance (EPL) -245.00000000000085\n"
     ]
    }
   ],
   "source": [
    "print(\"Final Money Balance (EPL)\", money)"
   ]
  },
  {
   "cell_type": "markdown",
   "metadata": {},
   "source": [
    "## betting against odds in favour strategy"
   ]
  },
  {
   "cell_type": "code",
   "execution_count": 177,
   "metadata": {},
   "outputs": [],
   "source": [
    "#change dataset to EPL\n",
    "columns = ['B365H','B365D','B365A']\n",
    "X = dataEPL[columns]\n",
    "Y = dataEPL.Result\n",
    "y_true = Y.tolist()"
   ]
  },
  {
   "cell_type": "code",
   "execution_count": 178,
   "metadata": {},
   "outputs": [],
   "source": [
    "y_pred =[]\n",
    "for i in range(len(X)):\n",
    "    pred, odd = bet(X.loc[i],'against')\n",
    "    y_pred.append(pred)"
   ]
  },
  {
   "cell_type": "code",
   "execution_count": 180,
   "metadata": {},
   "outputs": [
    {
     "name": "stdout",
     "output_type": "stream",
     "text": [
      "EPL Accuracy =  0.21907894736842104\n"
     ]
    }
   ],
   "source": [
    "print(\"EPL Accuracy = \", sum(1 for x,y in zip(y_pred,y_true) if x == y) / len(y_pred))"
   ]
  },
  {
   "cell_type": "code",
   "execution_count": 181,
   "metadata": {},
   "outputs": [],
   "source": [
    "#change dataset to laliga\n",
    "columns = ['B365H','B365D','B365A']\n",
    "X = dataLaliga[columns]\n",
    "Y = dataLaliga.Result\n",
    "y_true = Y.tolist()"
   ]
  },
  {
   "cell_type": "code",
   "execution_count": 182,
   "metadata": {},
   "outputs": [],
   "source": [
    "y_pred =[]\n",
    "for i in range(len(X)):\n",
    "    pred, odd = bet(X.loc[i],'against')\n",
    "    y_pred.append(pred)"
   ]
  },
  {
   "cell_type": "code",
   "execution_count": 183,
   "metadata": {},
   "outputs": [
    {
     "name": "stdout",
     "output_type": "stream",
     "text": [
      "La Liga Accuracy =  0.20230263157894737\n"
     ]
    }
   ],
   "source": [
    "print(\"La Liga Accuracy = \", sum(1 for x,y in zip(y_pred,y_true) if x == y) / len(y_pred))"
   ]
  },
  {
   "cell_type": "markdown",
   "metadata": {},
   "source": [
    "### Betting Simulation"
   ]
  },
  {
   "cell_type": "code",
   "execution_count": 186,
   "metadata": {},
   "outputs": [],
   "source": [
    "#change dataset to EPL\n",
    "columns = ['B365H','B365D','B365A']\n",
    "X = dataEPL[columns]\n",
    "Y = dataEPL.Result\n",
    "y_true = Y.tolist()"
   ]
  },
  {
   "cell_type": "code",
   "execution_count": 189,
   "metadata": {},
   "outputs": [],
   "source": [
    "y_pred =[]\n",
    "money = 1000\n",
    "for i in range(len(X)):\n",
    "    money = money - 10\n",
    "    pred, odd = bet(X.loc[i],'against')\n",
    "    if(pred == y_true[i]):\n",
    "        money += 10 * float(odd)"
   ]
  },
  {
   "cell_type": "code",
   "execution_count": 190,
   "metadata": {},
   "outputs": [
    {
     "name": "stdout",
     "output_type": "stream",
     "text": [
      "Final Money Balance (EPL) 1149.2\n"
     ]
    }
   ],
   "source": [
    "print(\"Final Money Balance (EPL)\", money)"
   ]
  },
  {
   "cell_type": "code",
   "execution_count": 195,
   "metadata": {},
   "outputs": [],
   "source": [
    "#change dataset to laliga\n",
    "columns = ['B365H','B365D','B365A']\n",
    "X = dataLaliga[columns]\n",
    "Y = dataLaliga.Result\n",
    "y_true = Y.tolist()"
   ]
  },
  {
   "cell_type": "code",
   "execution_count": 200,
   "metadata": {},
   "outputs": [],
   "source": [
    "y_pred =[]\n",
    "money = 1000\n",
    "for i in range(len(X)):\n",
    "    money = money - 10\n",
    "    pred, odd = bet(X.loc[i],'against')\n",
    "    if(pred == y_true[i]):\n",
    "        money += 10 * float(odd)"
   ]
  },
  {
   "cell_type": "code",
   "execution_count": 201,
   "metadata": {},
   "outputs": [
    {
     "name": "stdout",
     "output_type": "stream",
     "text": [
      "Final Money Balance (La Liga) -2093.6000000000004\n"
     ]
    }
   ],
   "source": [
    "print(\"Final Money Balance (La Liga)\", money)"
   ]
  }
 ],
 "metadata": {
  "kernelspec": {
   "display_name": "Python 3",
   "language": "python",
   "name": "python3"
  },
  "language_info": {
   "codemirror_mode": {
    "name": "ipython",
    "version": 3
   },
   "file_extension": ".py",
   "mimetype": "text/x-python",
   "name": "python",
   "nbconvert_exporter": "python",
   "pygments_lexer": "ipython3",
   "version": "3.7.4"
  }
 },
 "nbformat": 4,
 "nbformat_minor": 2
}
