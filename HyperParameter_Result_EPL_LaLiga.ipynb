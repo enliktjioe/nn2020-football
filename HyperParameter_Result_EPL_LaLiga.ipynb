{
 "cells": [
  {
   "cell_type": "code",
   "execution_count": 6,
   "metadata": {},
   "outputs": [],
   "source": [
    "import numpy as np\n",
    "result_epl = np.load('assets/hyper_param_result_epl.npy',allow_pickle=True)\n",
    "result_laliga = np.load('assets/hyper_param_result_laliga.npy',allow_pickle=True)"
   ]
  },
  {
   "cell_type": "code",
   "execution_count": 7,
   "metadata": {},
   "outputs": [
    {
     "data": {
      "text/html": [
       "<table>\n",
       "<tbody>\n",
       "<tr><td>learning_rate</td><td>layer        </td><td>dropout</td><td>batch_sizes</td><td>val_loss          </td><td>val_accuracy       </td></tr>\n",
       "<tr><td>1e-05        </td><td>41-75-3      </td><td>0      </td><td>16         </td><td>0.9678374528884888</td><td>0.5233644843101501 </td></tr>\n",
       "<tr><td>1e-05        </td><td>41-75-3      </td><td>0      </td><td>32         </td><td>1.0739868879318237</td><td>0.4953271150588989 </td></tr>\n",
       "<tr><td>1e-05        </td><td>41-75-3      </td><td>0.3    </td><td>16         </td><td>1.6535708904266357</td><td>0.5420560836791992 </td></tr>\n",
       "<tr><td>1e-05        </td><td>41-75-3      </td><td>0.3    </td><td>32         </td><td>1.7633767127990723</td><td>0.514018714427948  </td></tr>\n",
       "<tr><td>1e-05        </td><td>41-75-3      </td><td>0.5    </td><td>16         </td><td>2.8191776275634766</td><td>0.6168224215507507 </td></tr>\n",
       "<tr><td>1e-05        </td><td>41-75-3      </td><td>0.5    </td><td>32         </td><td>2.3832387924194336</td><td>0.5420560836791992 </td></tr>\n",
       "<tr><td>1e-05        </td><td>41-75-3      </td><td>0.7    </td><td>16         </td><td>3.1992664337158203</td><td>0.5046728849411011 </td></tr>\n",
       "<tr><td>1e-05        </td><td>41-75-3      </td><td>0.7    </td><td>32         </td><td>3.298799514770508 </td><td>0.5046728849411011 </td></tr>\n",
       "<tr><td>1e-05        </td><td>41-10-10-10-3</td><td>0      </td><td>16         </td><td>1.463592529296875 </td><td>0.5607476830482483 </td></tr>\n",
       "<tr><td>1e-05        </td><td>41-10-10-10-3</td><td>0      </td><td>32         </td><td>1.9500761032104492</td><td>0.29906541109085083</td></tr>\n",
       "<tr><td>1e-05        </td><td>41-10-10-10-3</td><td>0.3    </td><td>16         </td><td>1.3364527225494385</td><td>0.5233644843101501 </td></tr>\n",
       "<tr><td>1e-05        </td><td>41-10-10-10-3</td><td>0.3    </td><td>32         </td><td>1.8061615228652954</td><td>0.47663551568984985</td></tr>\n",
       "<tr><td>1e-05        </td><td>41-10-10-10-3</td><td>0.5    </td><td>16         </td><td>1.8924561738967896</td><td>0.47663551568984985</td></tr>\n",
       "<tr><td>1e-05        </td><td>41-10-10-10-3</td><td>0.5    </td><td>32         </td><td>1.9597609043121338</td><td>0.47663551568984985</td></tr>\n",
       "<tr><td>1e-05        </td><td>41-10-10-10-3</td><td>0.7    </td><td>16         </td><td>2.218731641769409 </td><td>0.22429905831813812</td></tr>\n",
       "<tr><td>1e-05        </td><td>41-10-10-10-3</td><td>0.7    </td><td>32         </td><td>1.8868650197982788</td><td>0.5233644843101501 </td></tr>\n",
       "<tr><td>1e-06        </td><td>41-75-3      </td><td>0      </td><td>16         </td><td>2.92917799949646  </td><td>0.2710280418395996 </td></tr>\n",
       "<tr><td>1e-06        </td><td>41-75-3      </td><td>0      </td><td>32         </td><td>3.952089309692383 </td><td>0.20560747385025024</td></tr>\n",
       "<tr><td>1e-06        </td><td>41-75-3      </td><td>0.3    </td><td>16         </td><td>2.5484273433685303</td><td>0.37383177876472473</td></tr>\n",
       "<tr><td>1e-06        </td><td>41-75-3      </td><td>0.3    </td><td>32         </td><td>3.5883193016052246</td><td>0.20560747385025024</td></tr>\n",
       "<tr><td>1e-06        </td><td>41-75-3      </td><td>0.5    </td><td>16         </td><td>3.412414073944092 </td><td>0.4392523467540741 </td></tr>\n",
       "<tr><td>1e-06        </td><td>41-75-3      </td><td>0.5    </td><td>32         </td><td>4.056273460388184 </td><td>0.04672897234559059</td></tr>\n",
       "<tr><td>1e-06        </td><td>41-75-3      </td><td>0.7    </td><td>16         </td><td>3.8906023502349854</td><td>0.14018692076206207</td></tr>\n",
       "<tr><td>1e-06        </td><td>41-75-3      </td><td>0.7    </td><td>32         </td><td>3.697763204574585 </td><td>0.25233644247055054</td></tr>\n",
       "<tr><td>1e-06        </td><td>41-10-10-10-3</td><td>0      </td><td>16         </td><td>2.167663097381592 </td><td>0.22429905831813812</td></tr>\n",
       "<tr><td>1e-06        </td><td>41-10-10-10-3</td><td>0      </td><td>32         </td><td>1.9253970384597778</td><td>0.25233644247055054</td></tr>\n",
       "<tr><td>1e-06        </td><td>41-10-10-10-3</td><td>0.3    </td><td>16         </td><td>1.8836334943771362</td><td>0.47663551568984985</td></tr>\n",
       "<tr><td>1e-06        </td><td>41-10-10-10-3</td><td>0.3    </td><td>32         </td><td>2.2263681888580322</td><td>0.18691588938236237</td></tr>\n",
       "<tr><td>1e-06        </td><td>41-10-10-10-3</td><td>0.5    </td><td>16         </td><td>2.133169651031494 </td><td>0.32710281014442444</td></tr>\n",
       "<tr><td>1e-06        </td><td>41-10-10-10-3</td><td>0.5    </td><td>32         </td><td>2.240968942642212 </td><td>0.17757008969783783</td></tr>\n",
       "<tr><td>1e-06        </td><td>41-10-10-10-3</td><td>0.7    </td><td>16         </td><td>2.2809770107269287</td><td>0.25233644247055054</td></tr>\n",
       "<tr><td>1e-06        </td><td>41-10-10-10-3</td><td>0.7    </td><td>32         </td><td>2.1905927658081055</td><td>0.336448609828949  </td></tr>\n",
       "</tbody>\n",
       "</table>"
      ],
      "text/plain": [
       "<IPython.core.display.HTML object>"
      ]
     },
     "metadata": {},
     "output_type": "display_data"
    }
   ],
   "source": [
    "from IPython.display import HTML, display\n",
    "import tabulate\n",
    "\n",
    "table = []\n",
    "table.append(['learning_rate','layer','dropout','batch_sizes','val_loss','val_accuracy'])\n",
    "best_row_epl = None\n",
    "best_val_acc = 0\n",
    "for key,val in result_epl.ravel()[0].items():\n",
    "    row = [key[0],key[1],key[2],key[3],val['val_loss'],val['val_accuracy']]\n",
    "    if val['val_accuracy'] > best_val_acc:\n",
    "        best_val_acc = val['val_accuracy']\n",
    "        best_row_epl = row\n",
    "    table.append(row)\n",
    "display(HTML(tabulate.tabulate(table, tablefmt='html')))"
   ]
  },
  {
   "cell_type": "code",
   "execution_count": 8,
   "metadata": {},
   "outputs": [
    {
     "data": {
      "text/html": [
       "<table>\n",
       "<tbody>\n",
       "<tr><td>learning_rate</td><td>layer        </td><td>dropout</td><td>batch_sizes</td><td>val_loss          </td><td>val_accuracy       </td></tr>\n",
       "<tr><td>1e-05        </td><td>41-75-3      </td><td>0      </td><td>16         </td><td>2.040229558944702 </td><td>0.5233644843101501 </td></tr>\n",
       "<tr><td>1e-05        </td><td>41-75-3      </td><td>0      </td><td>32         </td><td>1.2333990335464478</td><td>0.5046728849411011 </td></tr>\n",
       "<tr><td>1e-05        </td><td>41-75-3      </td><td>0.3    </td><td>16         </td><td>1.7352514266967773</td><td>0.5233644843101501 </td></tr>\n",
       "<tr><td>1e-05        </td><td>41-75-3      </td><td>0.3    </td><td>32         </td><td>1.7812609672546387</td><td>0.5233644843101501 </td></tr>\n",
       "<tr><td>1e-05        </td><td>41-75-3      </td><td>0.5    </td><td>16         </td><td>2.4693946838378906</td><td>0.5327102541923523 </td></tr>\n",
       "<tr><td>1e-05        </td><td>41-75-3      </td><td>0.5    </td><td>32         </td><td>2.868016242980957 </td><td>0.5327102541923523 </td></tr>\n",
       "<tr><td>1e-05        </td><td>41-75-3      </td><td>0.7    </td><td>16         </td><td>3.2206599712371826</td><td>0.5327102541923523 </td></tr>\n",
       "<tr><td>1e-05        </td><td>41-75-3      </td><td>0.7    </td><td>32         </td><td>3.1882407665252686</td><td>0.4672897160053253 </td></tr>\n",
       "<tr><td>1e-05        </td><td>41-10-10-10-3</td><td>0      </td><td>16         </td><td>0.970067024230957 </td><td>0.5327102541923523 </td></tr>\n",
       "<tr><td>1e-05        </td><td>41-10-10-10-3</td><td>0      </td><td>32         </td><td>0.9817492961883545</td><td>0.5420560836791992 </td></tr>\n",
       "<tr><td>1e-05        </td><td>41-10-10-10-3</td><td>0.3    </td><td>16         </td><td>1.3915716409683228</td><td>0.4953271150588989 </td></tr>\n",
       "<tr><td>1e-05        </td><td>41-10-10-10-3</td><td>0.3    </td><td>32         </td><td>1.6187583208084106</td><td>0.4392523467540741 </td></tr>\n",
       "<tr><td>1e-05        </td><td>41-10-10-10-3</td><td>0.5    </td><td>16         </td><td>2.125505208969116 </td><td>0.30841121077537537</td></tr>\n",
       "<tr><td>1e-05        </td><td>41-10-10-10-3</td><td>0.5    </td><td>32         </td><td>1.8075555562973022</td><td>0.4953271150588989 </td></tr>\n",
       "<tr><td>1e-05        </td><td>41-10-10-10-3</td><td>0.7    </td><td>16         </td><td>1.938445806503296 </td><td>0.5233644843101501 </td></tr>\n",
       "<tr><td>1e-05        </td><td>41-10-10-10-3</td><td>0.7    </td><td>32         </td><td>1.9120675325393677</td><td>0.5420560836791992 </td></tr>\n",
       "<tr><td>1e-06        </td><td>41-75-3      </td><td>0      </td><td>16         </td><td>3.422905683517456 </td><td>0.420560747385025  </td></tr>\n",
       "<tr><td>1e-06        </td><td>41-75-3      </td><td>0      </td><td>32         </td><td>4.532735824584961 </td><td>0.0                </td></tr>\n",
       "<tr><td>1e-06        </td><td>41-75-3      </td><td>0.3    </td><td>16         </td><td>2.8898980617523193</td><td>0.35514017939567566</td></tr>\n",
       "<tr><td>1e-06        </td><td>41-75-3      </td><td>0.3    </td><td>32         </td><td>3.859865665435791 </td><td>0.1214953288435936 </td></tr>\n",
       "<tr><td>1e-06        </td><td>41-75-3      </td><td>0.5    </td><td>16         </td><td>3.968264102935791 </td><td>0.05607476457953453</td></tr>\n",
       "<tr><td>1e-06        </td><td>41-75-3      </td><td>0.5    </td><td>32         </td><td>3.9999685287475586</td><td>0.08411215245723724</td></tr>\n",
       "<tr><td>1e-06        </td><td>41-75-3      </td><td>0.7    </td><td>16         </td><td>3.6509225368499756</td><td>0.32710281014442444</td></tr>\n",
       "<tr><td>1e-06        </td><td>41-75-3      </td><td>0.7    </td><td>32         </td><td>3.975123882293701 </td><td>0.1214953288435936 </td></tr>\n",
       "<tr><td>1e-06        </td><td>41-10-10-10-3</td><td>0      </td><td>16         </td><td>1.9785614013671875</td><td>0.5046728849411011 </td></tr>\n",
       "<tr><td>1e-06        </td><td>41-10-10-10-3</td><td>0      </td><td>32         </td><td>2.1328248977661133</td><td>0.1962616890668869 </td></tr>\n",
       "<tr><td>1e-06        </td><td>41-10-10-10-3</td><td>0.3    </td><td>16         </td><td>2.237414598464966 </td><td>0.2429906576871872 </td></tr>\n",
       "<tr><td>1e-06        </td><td>41-10-10-10-3</td><td>0.3    </td><td>32         </td><td>1.9104355573654175</td><td>0.4112149477005005 </td></tr>\n",
       "<tr><td>1e-06        </td><td>41-10-10-10-3</td><td>0.5    </td><td>16         </td><td>2.297344923019409 </td><td>0.15887850522994995</td></tr>\n",
       "<tr><td>1e-06        </td><td>41-10-10-10-3</td><td>0.5    </td><td>32         </td><td>2.1639251708984375</td><td>0.23364485800266266</td></tr>\n",
       "<tr><td>1e-06        </td><td>41-10-10-10-3</td><td>0.7    </td><td>16         </td><td>2.2952356338500977</td><td>0.20560747385025024</td></tr>\n",
       "<tr><td>1e-06        </td><td>41-10-10-10-3</td><td>0.7    </td><td>32         </td><td>2.2507593631744385</td><td>0.28037384152412415</td></tr>\n",
       "</tbody>\n",
       "</table>"
      ],
      "text/plain": [
       "<IPython.core.display.HTML object>"
      ]
     },
     "metadata": {},
     "output_type": "display_data"
    }
   ],
   "source": [
    "from IPython.display import HTML, display\n",
    "import tabulate\n",
    "\n",
    "table = []\n",
    "table.append(['learning_rate','layer','dropout','batch_sizes','val_loss','val_accuracy'])\n",
    "best_row_laliga = None\n",
    "best_val_acc = 0\n",
    "for key,val in result_laliga.ravel()[0].items():\n",
    "    row = [key[0],key[1],key[2],key[3],val['val_loss'],val['val_accuracy']]\n",
    "    if val['val_accuracy'] > best_val_acc:\n",
    "        best_val_acc = val['val_accuracy']\n",
    "        best_row_laliga = row\n",
    "    table.append(row)\n",
    "display(HTML(tabulate.tabulate(table, tablefmt='html')))"
   ]
  },
  {
   "cell_type": "code",
   "execution_count": 9,
   "metadata": {},
   "outputs": [
    {
     "name": "stdout",
     "output_type": "stream",
     "text": [
      "[1e-05, '41-75-3', 0.5, 16, 2.8191776275634766, 0.6168224215507507]\n"
     ]
    }
   ],
   "source": [
    "# EPL\n",
    "print(best_row_epl)"
   ]
  },
  {
   "cell_type": "code",
   "execution_count": 10,
   "metadata": {},
   "outputs": [
    {
     "name": "stdout",
     "output_type": "stream",
     "text": [
      "[1e-05, '41-10-10-10-3', 0, 32, 0.9817492961883545, 0.5420560836791992]\n"
     ]
    }
   ],
   "source": [
    "# La Liga\n",
    "print(best_row_laliga)"
   ]
  },
  {
   "cell_type": "code",
   "execution_count": null,
   "metadata": {},
   "outputs": [],
   "source": []
  }
 ],
 "metadata": {
  "kernelspec": {
   "display_name": "Python 3",
   "language": "python",
   "name": "python3"
  },
  "language_info": {
   "codemirror_mode": {
    "name": "ipython",
    "version": 3
   },
   "file_extension": ".py",
   "mimetype": "text/x-python",
   "name": "python",
   "nbconvert_exporter": "python",
   "pygments_lexer": "ipython3",
   "version": "3.6.7"
  }
 },
 "nbformat": 4,
 "nbformat_minor": 4
}
