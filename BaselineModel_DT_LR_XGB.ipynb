{
 "cells": [
  {
   "cell_type": "code",
   "execution_count": 1,
   "metadata": {},
   "outputs": [],
   "source": [
    "import pandas as pd\n",
    "import numpy as np\n",
    "import warnings\n",
    "warnings.filterwarnings('ignore') # ignore warnings message\n",
    "\n",
    "# making all pandas columns visable with display command\n",
    "pd.set_option('display.max_columns', 500)\n"
   ]
  },
  {
   "cell_type": "markdown",
   "metadata": {},
   "source": [
    "## EPL"
   ]
  },
  {
   "cell_type": "code",
   "execution_count": 3,
   "metadata": {},
   "outputs": [
    {
     "name": "stdout",
     "output_type": "stream",
     "text": [
      "(2660, 29)\n",
      "(2660,)\n",
      "(380, 29)\n",
      "(380,)\n"
     ]
    }
   ],
   "source": [
    "train=pd.read_csv(\"datasets/epl_data_train_onehot.csv\")\n",
    "test=pd.read_csv(\"datasets/epl_data_test_onehot.csv\")\n",
    "# print(train.head())\n",
    "# print(train.shape)\n",
    "\n",
    "X_train = train.drop(columns = ['FTR'])\n",
    "y_train = train['FTR']\n",
    "print(X_train.shape)\n",
    "print(y_train.shape)\n",
    "\n",
    "X_test = test.drop(columns = ['FTR'])\n",
    "y_test = test['FTR']\n",
    "print(X_test.shape)\n",
    "print(y_test.shape)"
   ]
  },
  {
   "cell_type": "markdown",
   "metadata": {},
   "source": [
    "## Predict"
   ]
  },
  {
   "cell_type": "markdown",
   "metadata": {},
   "source": [
    "### Decision Tree"
   ]
  },
  {
   "cell_type": "code",
   "execution_count": 6,
   "metadata": {},
   "outputs": [
    {
     "name": "stdout",
     "output_type": "stream",
     "text": [
      "Accuracy of DecisionTreeClassifier on test set: 0.39\n",
      "Logistic Regression Confusion Matrix \n",
      " [[40 28 42]\n",
      " [24 27 46]\n",
      " [42 50 81]]\n"
     ]
    }
   ],
   "source": [
    "from sklearn.tree import DecisionTreeClassifier as DT\n",
    "from sklearn import metrics\n",
    "\n",
    "modelDT = DT()\n",
    "modelDT = modelDT.fit(X_train, y_train)\n",
    "preds_DT = modelDT.predict(X_test)\n",
    "\n",
    "print('Accuracy of DecisionTreeClassifier on test set: {:.2f}'.format(metrics.accuracy_score(y_test, preds_DT)))\n",
    "print('Logistic Regression Confusion Matrix \\n', metrics.confusion_matrix(y_test, preds_DT))"
   ]
  },
  {
   "cell_type": "markdown",
   "metadata": {},
   "source": [
    "### Logistic Regression"
   ]
  },
  {
   "cell_type": "code",
   "execution_count": 7,
   "metadata": {},
   "outputs": [
    {
     "name": "stdout",
     "output_type": "stream",
     "text": [
      "Accuracy of Logistic Regression classifier on test set: 0.53\n",
      "Logistic Regression Confusion Matrix \n",
      " [[ 52  13  45]\n",
      " [ 17   8  72]\n",
      " [ 25   8 140]]\n"
     ]
    }
   ],
   "source": [
    "from sklearn.linear_model import LogisticRegression as LR\n",
    "from sklearn import metrics\n",
    "\n",
    "model_LR = LR(random_state=0)\n",
    "model_LR = model_LR.fit(X_train, y_train)\n",
    "pred_LR = model_LR.predict(X_test)\n",
    "\n",
    "print('Accuracy of Logistic Regression classifier on test set: {:.2f}'.format(metrics.accuracy_score(y_test, pred_LR)))\n",
    "print('Logistic Regression Confusion Matrix \\n', metrics.confusion_matrix(y_test, pred_LR))"
   ]
  },
  {
   "cell_type": "markdown",
   "metadata": {},
   "source": [
    "### XGB Classifier"
   ]
  },
  {
   "cell_type": "code",
   "execution_count": 8,
   "metadata": {},
   "outputs": [
    {
     "name": "stdout",
     "output_type": "stream",
     "text": [
      "Accuracy of XGBoost classifier on test set: 0.50\n",
      "XGBoost - Confusion Matrix \n",
      " [[ 42  25  43]\n",
      " [ 20  21  56]\n",
      " [ 20  27 126]]\n"
     ]
    }
   ],
   "source": [
    "from xgboost import XGBClassifier\n",
    "\n",
    "model_XGB = XGBClassifier()\n",
    "model_XGB.fit(X_train, y_train)\n",
    "pred_XGB = model_XGB.predict(X_test)\n",
    "\n",
    "print('Accuracy of XGBoost classifier on test set: {:.2f}'.format(metrics.accuracy_score(y_test, pred_XGB)))\n",
    "print('XGBoost - Confusion Matrix \\n', metrics.confusion_matrix(y_test, pred_XGB))"
   ]
  },
  {
   "cell_type": "markdown",
   "metadata": {},
   "source": [
    "## La Liga"
   ]
  },
  {
   "cell_type": "code",
   "execution_count": 11,
   "metadata": {},
   "outputs": [
    {
     "name": "stdout",
     "output_type": "stream",
     "text": [
      "(2660, 29)\n",
      "(2660,)\n",
      "(380, 29)\n",
      "(380,)\n"
     ]
    }
   ],
   "source": [
    "train=pd.read_csv(\"datasets/laliga_data_train_onehot.csv\")\n",
    "test=pd.read_csv(\"datasets/laliga_data_test_onehot.csv\")\n",
    "# print(train.head())\n",
    "# print(train.shape)\n",
    "\n",
    "X_train = train.drop(columns = ['FTR'])\n",
    "y_train = train['FTR']\n",
    "print(X_train.shape)\n",
    "print(y_train.shape)\n",
    "\n",
    "X_test = test.drop(columns = ['FTR'])\n",
    "y_test = test['FTR']\n",
    "print(X_test.shape)\n",
    "print(y_test.shape)"
   ]
  },
  {
   "cell_type": "markdown",
   "metadata": {},
   "source": [
    "### Decision Tree"
   ]
  },
  {
   "cell_type": "code",
   "execution_count": 12,
   "metadata": {},
   "outputs": [
    {
     "name": "stdout",
     "output_type": "stream",
     "text": [
      "Accuracy of DecisionTreeClassifier on test set: 0.44\n",
      "Logistic Regression Confusion Matrix \n",
      " [[ 42  29  42]\n",
      " [ 26  24  33]\n",
      " [ 46  35 103]]\n"
     ]
    }
   ],
   "source": [
    "from sklearn.tree import DecisionTreeClassifier as DT\n",
    "from sklearn import metrics\n",
    "\n",
    "modelDT = DT()\n",
    "modelDT = modelDT.fit(X_train, y_train)\n",
    "preds_DT = modelDT.predict(X_test)\n",
    "print('Accuracy of DecisionTreeClassifier on test set: {:.2f}'.format(metrics.accuracy_score(y_test, preds_DT)))\n",
    "print('Logistic Regression Confusion Matrix \\n', metrics.confusion_matrix(y_test, preds_DT))"
   ]
  },
  {
   "cell_type": "markdown",
   "metadata": {},
   "source": [
    "### Logistic Regression"
   ]
  },
  {
   "cell_type": "code",
   "execution_count": 14,
   "metadata": {},
   "outputs": [
    {
     "name": "stdout",
     "output_type": "stream",
     "text": [
      "Accuracy of Logistic Regression classifier on test set: 0.53\n",
      "Logistic Regression Confusion Matrix \n",
      " [[ 47   5  61]\n",
      " [ 18   2  63]\n",
      " [ 25   5 154]]\n"
     ]
    }
   ],
   "source": [
    "from sklearn.linear_model import LogisticRegression as LR\n",
    "from sklearn import metrics\n",
    "\n",
    "model_LR = LR(random_state=0)\n",
    "model_LR = model_LR.fit(X_train, y_train)\n",
    "pred_LR = model_LR.predict(X_test)\n",
    "\n",
    "print('Accuracy of Logistic Regression classifier on test set: {:.2f}'.format(metrics.accuracy_score(y_test, pred_LR)))\n",
    "print('Logistic Regression Confusion Matrix \\n', metrics.confusion_matrix(y_test, pred_LR))"
   ]
  },
  {
   "cell_type": "markdown",
   "metadata": {},
   "source": [
    "### XGB Classifier"
   ]
  },
  {
   "cell_type": "code",
   "execution_count": 15,
   "metadata": {},
   "outputs": [
    {
     "name": "stdout",
     "output_type": "stream",
     "text": [
      "Accuracy of XGBoost classifier on test set: 0.49\n",
      "XGBoost - Confusion Matrix \n",
      " [[ 39  20  54]\n",
      " [ 20  13  50]\n",
      " [ 27  23 134]]\n"
     ]
    }
   ],
   "source": [
    "from xgboost import XGBClassifier\n",
    "\n",
    "model_XGB = XGBClassifier()\n",
    "model_XGB.fit(X_train, y_train)\n",
    "pred_XGB = model_XGB.predict(X_test)\n",
    "\n",
    "print('Accuracy of XGBoost classifier on test set: {:.2f}'.format(metrics.accuracy_score(y_test, pred_XGB)))\n",
    "print('XGBoost - Confusion Matrix \\n', metrics.confusion_matrix(y_test, pred_XGB))"
   ]
  }
 ],
 "metadata": {
  "kernelspec": {
   "display_name": "Python 3",
   "language": "python",
   "name": "python3"
  },
  "language_info": {
   "codemirror_mode": {
    "name": "ipython",
    "version": 3
   },
   "file_extension": ".py",
   "mimetype": "text/x-python",
   "name": "python",
   "nbconvert_exporter": "python",
   "pygments_lexer": "ipython3",
   "version": "3.6.7"
  }
 },
 "nbformat": 4,
 "nbformat_minor": 2
}
