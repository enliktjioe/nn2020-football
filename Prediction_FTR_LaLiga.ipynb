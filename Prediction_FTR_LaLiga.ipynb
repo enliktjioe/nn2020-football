{
 "cells": [
  {
   "cell_type": "markdown",
   "metadata": {},
   "source": [
    "## Prediction FTR LaLiga"
   ]
  },
  {
   "cell_type": "code",
   "execution_count": 1,
   "metadata": {},
   "outputs": [],
   "source": [
    "import pandas as pd\n",
    "import numpy as np\n",
    "from sklearn.metrics import confusion_matrix\n",
    "from sklearn.model_selection import train_test_split\n",
    "\n",
    "%load_ext autoreload\n",
    "%autoreload 2\n",
    "\n",
    "# making all pandas columns visable with display command\n",
    "pd.set_option('display.max_columns', 500)\n",
    "\n",
    "from tensorflow.keras.models import Model\n",
    "from tensorflow.keras.layers import Input, Conv2D, Activation, Flatten, Dense, Dropout, LSTM\n",
    "from tensorflow.keras.optimizers import Adam"
   ]
  },
  {
   "cell_type": "code",
   "execution_count": 2,
   "metadata": {},
   "outputs": [],
   "source": [
    "train=pd.read_csv(\"datasets/laliga_data_train_onehot.csv\")\n",
    "test=pd.read_csv(\"datasets/laliga_data_test_onehot.csv\")\n",
    "# print(train.head())\n",
    "# print(train.shape)"
   ]
  },
  {
   "cell_type": "code",
   "execution_count": 3,
   "metadata": {},
   "outputs": [
    {
     "name": "stdout",
     "output_type": "stream",
     "text": [
      "(2660, 29)\n",
      "(2660,)\n"
     ]
    }
   ],
   "source": [
    "X_train = train.drop(columns = ['FTR'])\n",
    "y_train = train['FTR']\n",
    "print(X_train.shape)\n",
    "print(y_train.shape)"
   ]
  },
  {
   "cell_type": "code",
   "execution_count": 4,
   "metadata": {},
   "outputs": [
    {
     "name": "stdout",
     "output_type": "stream",
     "text": [
      "(380, 29)\n",
      "(380,)\n"
     ]
    }
   ],
   "source": [
    "X_test = test.drop(columns = ['FTR'])\n",
    "y_test = test['FTR']\n",
    "print(X_test.shape)\n",
    "print(y_test.shape)"
   ]
  },
  {
   "cell_type": "code",
   "execution_count": 5,
   "metadata": {},
   "outputs": [
    {
     "data": {
      "text/plain": [
       "29"
      ]
     },
     "execution_count": 5,
     "metadata": {},
     "output_type": "execute_result"
    }
   ],
   "source": [
    "columns = X_train.shape[1]\n",
    "columns"
   ]
  },
  {
   "cell_type": "code",
   "execution_count": 6,
   "metadata": {},
   "outputs": [
    {
     "name": "stdout",
     "output_type": "stream",
     "text": [
      "Model: \"model\"\n",
      "_________________________________________________________________\n",
      "Layer (type)                 Output Shape              Param #   \n",
      "=================================================================\n",
      "input_1 (InputLayer)         [(None, 29)]              0         \n",
      "_________________________________________________________________\n",
      "flatten (Flatten)            (None, 29)                0         \n",
      "_________________________________________________________________\n",
      "dense (Dense)                (None, 41)                1230      \n",
      "_________________________________________________________________\n",
      "dense_1 (Dense)              (None, 75)                3150      \n",
      "_________________________________________________________________\n",
      "dropout (Dropout)            (None, 75)                0         \n",
      "_________________________________________________________________\n",
      "activation (Activation)      (None, 75)                0         \n",
      "=================================================================\n",
      "Total params: 4,380\n",
      "Trainable params: 4,380\n",
      "Non-trainable params: 0\n",
      "_________________________________________________________________\n"
     ]
    }
   ],
   "source": [
    "# 41-75-3\n",
    "# We first need to define the sequence of dependencies (the computational graph)\n",
    "# x = Input(shape=(20,32))\n",
    "x = Input(shape=(columns,))\n",
    "# h = Conv2D(32, (7, 7), strides=(2, 2))(x)\n",
    "# h = Activation('relu')(x)\n",
    "h = Flatten()(x)\n",
    "h = Dense(41)(h)\n",
    "h = Dense(75)(h)\n",
    "# for i in range(10):\n",
    "#     h = Dense(75)(h)\n",
    "h = Dropout(0.3)(h)\n",
    "p = Activation('softmax')(h)\n",
    "\n",
    "# Now that we have defined how to find p from x, we can create a \n",
    "# model simply by saying what is input and what is output\n",
    "model = Model(inputs=x, outputs=p)\n",
    "model.compile(loss='sparse_categorical_crossentropy', optimizer=Adam(lr=0.00001), metrics=['accuracy'])\n",
    "model.summary()"
   ]
  },
  {
   "cell_type": "code",
   "execution_count": 7,
   "metadata": {},
   "outputs": [
    {
     "name": "stdout",
     "output_type": "stream",
     "text": [
      "Epoch 1/200\n",
      "160/160 [==============================] - 1s 5ms/step - loss: 6.8172 - accuracy: 0.0012 - val_loss: 5.9268 - val_accuracy: 0.0093\n",
      "Epoch 2/200\n",
      "160/160 [==============================] - 1s 3ms/step - loss: 6.5946 - accuracy: 0.0012 - val_loss: 5.7555 - val_accuracy: 0.0093\n",
      "Epoch 3/200\n",
      "160/160 [==============================] - 0s 3ms/step - loss: 6.3647 - accuracy: 0.0020 - val_loss: 5.5884 - val_accuracy: 0.0093\n",
      "Epoch 4/200\n",
      "160/160 [==============================] - 0s 3ms/step - loss: 6.1594 - accuracy: 0.0016 - val_loss: 5.4214 - val_accuracy: 0.0093\n",
      "Epoch 5/200\n",
      "160/160 [==============================] - 0s 3ms/step - loss: 5.9689 - accuracy: 0.0024 - val_loss: 5.2563 - val_accuracy: 0.0093\n",
      "Epoch 6/200\n",
      "160/160 [==============================] - 1s 3ms/step - loss: 5.7483 - accuracy: 0.0051 - val_loss: 5.0957 - val_accuracy: 0.0093\n",
      "Epoch 7/200\n",
      "160/160 [==============================] - 1s 4ms/step - loss: 5.5518 - accuracy: 0.0047 - val_loss: 4.9370 - val_accuracy: 0.0093\n",
      "Epoch 8/200\n",
      "160/160 [==============================] - 1s 4ms/step - loss: 5.3414 - accuracy: 0.0086 - val_loss: 4.7813 - val_accuracy: 0.0093\n",
      "Epoch 9/200\n",
      "160/160 [==============================] - 1s 4ms/step - loss: 5.1717 - accuracy: 0.0090 - val_loss: 4.6279 - val_accuracy: 0.0187\n",
      "Epoch 10/200\n",
      "160/160 [==============================] - 1s 4ms/step - loss: 4.9767 - accuracy: 0.0129 - val_loss: 4.4793 - val_accuracy: 0.0187\n",
      "Epoch 11/200\n",
      "160/160 [==============================] - 1s 3ms/step - loss: 4.7905 - accuracy: 0.0180 - val_loss: 4.3283 - val_accuracy: 0.0187\n",
      "Epoch 12/200\n",
      "160/160 [==============================] - 1s 3ms/step - loss: 4.6146 - accuracy: 0.0223 - val_loss: 4.1779 - val_accuracy: 0.0467\n",
      "Epoch 13/200\n",
      "160/160 [==============================] - 0s 3ms/step - loss: 4.4542 - accuracy: 0.0333 - val_loss: 4.0342 - val_accuracy: 0.0654\n",
      "Epoch 14/200\n",
      "160/160 [==============================] - 1s 3ms/step - loss: 4.2758 - accuracy: 0.0548 - val_loss: 3.8907 - val_accuracy: 0.0748\n",
      "Epoch 15/200\n",
      "160/160 [==============================] - 1s 3ms/step - loss: 4.1200 - accuracy: 0.0717 - val_loss: 3.7513 - val_accuracy: 0.1121\n",
      "Epoch 16/200\n",
      "160/160 [==============================] - 0s 3ms/step - loss: 3.9951 - accuracy: 0.0940 - val_loss: 3.6201 - val_accuracy: 0.1215\n",
      "Epoch 17/200\n",
      "160/160 [==============================] - 0s 3ms/step - loss: 3.8038 - accuracy: 0.1363 - val_loss: 3.4900 - val_accuracy: 0.2243\n",
      "Epoch 18/200\n",
      "160/160 [==============================] - 0s 3ms/step - loss: 3.6911 - accuracy: 0.1645 - val_loss: 3.3671 - val_accuracy: 0.2523\n",
      "Epoch 19/200\n",
      "160/160 [==============================] - 0s 3ms/step - loss: 3.5366 - accuracy: 0.1970 - val_loss: 3.2468 - val_accuracy: 0.2804\n",
      "Epoch 20/200\n",
      "160/160 [==============================] - 0s 3ms/step - loss: 3.4365 - accuracy: 0.2272 - val_loss: 3.1342 - val_accuracy: 0.2991\n",
      "Epoch 21/200\n",
      "160/160 [==============================] - 0s 3ms/step - loss: 3.3324 - accuracy: 0.2589 - val_loss: 3.0273 - val_accuracy: 0.3084\n",
      "Epoch 22/200\n",
      "160/160 [==============================] - 0s 3ms/step - loss: 3.2496 - accuracy: 0.2844 - val_loss: 2.9258 - val_accuracy: 0.3551\n",
      "Epoch 23/200\n",
      "160/160 [==============================] - 0s 3ms/step - loss: 3.1560 - accuracy: 0.3102 - val_loss: 2.8302 - val_accuracy: 0.3738\n",
      "Epoch 24/200\n",
      "160/160 [==============================] - 0s 3ms/step - loss: 3.0444 - accuracy: 0.3275 - val_loss: 2.7392 - val_accuracy: 0.4019\n",
      "Epoch 25/200\n",
      "160/160 [==============================] - 0s 3ms/step - loss: 2.9600 - accuracy: 0.3549 - val_loss: 2.6542 - val_accuracy: 0.4299\n",
      "Epoch 26/200\n",
      "160/160 [==============================] - 0s 3ms/step - loss: 2.8685 - accuracy: 0.3702 - val_loss: 2.5730 - val_accuracy: 0.4486\n",
      "Epoch 27/200\n",
      "160/160 [==============================] - 0s 3ms/step - loss: 2.8076 - accuracy: 0.3780 - val_loss: 2.4962 - val_accuracy: 0.4579\n",
      "Epoch 28/200\n",
      "160/160 [==============================] - 0s 3ms/step - loss: 2.7585 - accuracy: 0.3784 - val_loss: 2.4245 - val_accuracy: 0.4579\n",
      "Epoch 29/200\n",
      "160/160 [==============================] - 0s 2ms/step - loss: 2.7175 - accuracy: 0.3870 - val_loss: 2.3562 - val_accuracy: 0.4579\n",
      "Epoch 30/200\n",
      "160/160 [==============================] - 0s 3ms/step - loss: 2.6824 - accuracy: 0.3807 - val_loss: 2.2930 - val_accuracy: 0.4673\n",
      "Epoch 31/200\n",
      "160/160 [==============================] - 1s 3ms/step - loss: 2.6290 - accuracy: 0.3874 - val_loss: 2.2340 - val_accuracy: 0.4766\n",
      "Epoch 32/200\n",
      "160/160 [==============================] - 0s 3ms/step - loss: 2.5417 - accuracy: 0.4128 - val_loss: 2.1740 - val_accuracy: 0.4766\n",
      "Epoch 33/200\n",
      "160/160 [==============================] - 0s 3ms/step - loss: 2.5653 - accuracy: 0.3968 - val_loss: 2.1212 - val_accuracy: 0.4673\n",
      "Epoch 34/200\n",
      "160/160 [==============================] - 0s 3ms/step - loss: 2.5209 - accuracy: 0.3886 - val_loss: 2.0696 - val_accuracy: 0.4673\n",
      "Epoch 35/200\n",
      "160/160 [==============================] - 0s 3ms/step - loss: 2.4414 - accuracy: 0.4101 - val_loss: 2.0237 - val_accuracy: 0.4579\n",
      "Epoch 36/200\n",
      "160/160 [==============================] - 0s 3ms/step - loss: 2.4070 - accuracy: 0.4144 - val_loss: 1.9788 - val_accuracy: 0.4579\n",
      "Epoch 37/200\n",
      "160/160 [==============================] - 0s 3ms/step - loss: 2.3963 - accuracy: 0.4144 - val_loss: 1.9381 - val_accuracy: 0.4579\n",
      "Epoch 38/200\n",
      "160/160 [==============================] - 1s 3ms/step - loss: 2.3049 - accuracy: 0.4324 - val_loss: 1.8975 - val_accuracy: 0.4486\n",
      "Epoch 39/200\n",
      "160/160 [==============================] - 0s 3ms/step - loss: 2.3812 - accuracy: 0.4070 - val_loss: 1.8618 - val_accuracy: 0.4393\n",
      "Epoch 40/200\n",
      "160/160 [==============================] - 0s 3ms/step - loss: 2.3323 - accuracy: 0.4246 - val_loss: 1.8281 - val_accuracy: 0.4393\n",
      "Epoch 41/200\n",
      "160/160 [==============================] - 1s 3ms/step - loss: 2.3081 - accuracy: 0.4258 - val_loss: 1.7951 - val_accuracy: 0.4393\n",
      "Epoch 42/200\n",
      "160/160 [==============================] - 0s 3ms/step - loss: 2.3000 - accuracy: 0.4266 - val_loss: 1.7667 - val_accuracy: 0.4393\n",
      "Epoch 43/200\n",
      "160/160 [==============================] - 1s 3ms/step - loss: 2.2546 - accuracy: 0.4277 - val_loss: 1.7394 - val_accuracy: 0.4393\n",
      "Epoch 44/200\n",
      "160/160 [==============================] - 0s 3ms/step - loss: 2.2969 - accuracy: 0.4211 - val_loss: 1.7150 - val_accuracy: 0.4393\n",
      "Epoch 45/200\n",
      "160/160 [==============================] - 1s 3ms/step - loss: 2.2263 - accuracy: 0.4360 - val_loss: 1.6903 - val_accuracy: 0.4393\n",
      "Epoch 46/200\n",
      "160/160 [==============================] - 0s 3ms/step - loss: 2.1894 - accuracy: 0.4450 - val_loss: 1.6663 - val_accuracy: 0.4393\n",
      "Epoch 47/200\n",
      "160/160 [==============================] - 0s 3ms/step - loss: 2.2047 - accuracy: 0.4254 - val_loss: 1.6441 - val_accuracy: 0.4579\n",
      "Epoch 48/200\n",
      "160/160 [==============================] - 1s 4ms/step - loss: 2.1528 - accuracy: 0.4399 - val_loss: 1.6241 - val_accuracy: 0.4579\n",
      "Epoch 49/200\n",
      "160/160 [==============================] - 1s 4ms/step - loss: 2.2248 - accuracy: 0.4297 - val_loss: 1.6068 - val_accuracy: 0.4579\n",
      "Epoch 50/200\n",
      "160/160 [==============================] - 1s 3ms/step - loss: 2.1502 - accuracy: 0.4356 - val_loss: 1.5870 - val_accuracy: 0.4579\n",
      "Epoch 51/200\n",
      "160/160 [==============================] - 1s 3ms/step - loss: 2.1392 - accuracy: 0.4367 - val_loss: 1.5694 - val_accuracy: 0.4579\n",
      "Epoch 52/200\n",
      "160/160 [==============================] - 1s 4ms/step - loss: 2.1838 - accuracy: 0.4238 - val_loss: 1.5533 - val_accuracy: 0.4579\n",
      "Epoch 53/200\n",
      "160/160 [==============================] - 0s 3ms/step - loss: 2.1096 - accuracy: 0.4344 - val_loss: 1.5383 - val_accuracy: 0.4579\n",
      "Epoch 54/200\n",
      "160/160 [==============================] - 1s 3ms/step - loss: 2.1038 - accuracy: 0.4367 - val_loss: 1.5228 - val_accuracy: 0.4579\n",
      "Epoch 55/200\n",
      "160/160 [==============================] - 1s 4ms/step - loss: 2.2046 - accuracy: 0.4183 - val_loss: 1.5114 - val_accuracy: 0.4860\n",
      "Epoch 56/200\n",
      "160/160 [==============================] - 1s 3ms/step - loss: 2.1671 - accuracy: 0.4211 - val_loss: 1.5000 - val_accuracy: 0.4860\n",
      "Epoch 57/200\n",
      "160/160 [==============================] - 1s 4ms/step - loss: 2.1173 - accuracy: 0.4258 - val_loss: 1.4848 - val_accuracy: 0.4860\n"
     ]
    },
    {
     "name": "stdout",
     "output_type": "stream",
     "text": [
      "Epoch 58/200\n",
      "160/160 [==============================] - 1s 3ms/step - loss: 2.1364 - accuracy: 0.4203 - val_loss: 1.4750 - val_accuracy: 0.4860\n",
      "Epoch 59/200\n",
      "160/160 [==============================] - 0s 3ms/step - loss: 2.0577 - accuracy: 0.4371 - val_loss: 1.4617 - val_accuracy: 0.4860\n",
      "Epoch 60/200\n",
      "160/160 [==============================] - 0s 3ms/step - loss: 2.1341 - accuracy: 0.4238 - val_loss: 1.4521 - val_accuracy: 0.4860\n",
      "Epoch 61/200\n",
      "160/160 [==============================] - 0s 3ms/step - loss: 2.1205 - accuracy: 0.4332 - val_loss: 1.4416 - val_accuracy: 0.4860\n",
      "Epoch 62/200\n",
      "160/160 [==============================] - 0s 3ms/step - loss: 2.1007 - accuracy: 0.4383 - val_loss: 1.4317 - val_accuracy: 0.4860\n",
      "Epoch 63/200\n",
      "160/160 [==============================] - 1s 3ms/step - loss: 2.0901 - accuracy: 0.4328 - val_loss: 1.4190 - val_accuracy: 0.4860\n",
      "Epoch 64/200\n",
      "160/160 [==============================] - 0s 3ms/step - loss: 2.0614 - accuracy: 0.4379 - val_loss: 1.4098 - val_accuracy: 0.4860\n",
      "Epoch 65/200\n",
      "160/160 [==============================] - 0s 3ms/step - loss: 2.0945 - accuracy: 0.4375 - val_loss: 1.4006 - val_accuracy: 0.4860\n",
      "Epoch 66/200\n",
      "160/160 [==============================] - 0s 2ms/step - loss: 2.0429 - accuracy: 0.4328 - val_loss: 1.3899 - val_accuracy: 0.4860\n",
      "Epoch 67/200\n",
      "160/160 [==============================] - 1s 3ms/step - loss: 2.0932 - accuracy: 0.4297 - val_loss: 1.3815 - val_accuracy: 0.4860\n",
      "Epoch 68/200\n",
      "160/160 [==============================] - 0s 3ms/step - loss: 2.0322 - accuracy: 0.4348 - val_loss: 1.3718 - val_accuracy: 0.4860\n",
      "Epoch 69/200\n",
      "160/160 [==============================] - 0s 3ms/step - loss: 2.0363 - accuracy: 0.4430 - val_loss: 1.3636 - val_accuracy: 0.4860\n",
      "Epoch 70/200\n",
      "160/160 [==============================] - 0s 3ms/step - loss: 2.0542 - accuracy: 0.4407 - val_loss: 1.3547 - val_accuracy: 0.4860\n",
      "Epoch 71/200\n",
      "160/160 [==============================] - 1s 3ms/step - loss: 2.0804 - accuracy: 0.4328 - val_loss: 1.3464 - val_accuracy: 0.4860\n",
      "Epoch 72/200\n",
      "160/160 [==============================] - 0s 3ms/step - loss: 2.1052 - accuracy: 0.4262 - val_loss: 1.3405 - val_accuracy: 0.4860\n",
      "Epoch 73/200\n",
      "160/160 [==============================] - 0s 3ms/step - loss: 2.1389 - accuracy: 0.4152 - val_loss: 1.3336 - val_accuracy: 0.4673\n",
      "Epoch 74/200\n",
      "160/160 [==============================] - 0s 2ms/step - loss: 2.0510 - accuracy: 0.4422 - val_loss: 1.3244 - val_accuracy: 0.4673\n",
      "Epoch 75/200\n",
      "160/160 [==============================] - 0s 3ms/step - loss: 2.0838 - accuracy: 0.4207 - val_loss: 1.3172 - val_accuracy: 0.4673\n",
      "Epoch 76/200\n",
      "160/160 [==============================] - 0s 3ms/step - loss: 2.0542 - accuracy: 0.4332 - val_loss: 1.3107 - val_accuracy: 0.4673\n",
      "Epoch 77/200\n",
      "160/160 [==============================] - 0s 3ms/step - loss: 2.0660 - accuracy: 0.4293 - val_loss: 1.3041 - val_accuracy: 0.4579\n",
      "Epoch 78/200\n",
      "160/160 [==============================] - 0s 3ms/step - loss: 2.0077 - accuracy: 0.4418 - val_loss: 1.2967 - val_accuracy: 0.4579\n",
      "Epoch 79/200\n",
      "160/160 [==============================] - 0s 2ms/step - loss: 1.9854 - accuracy: 0.4544 - val_loss: 1.2881 - val_accuracy: 0.4673\n",
      "Epoch 80/200\n",
      "160/160 [==============================] - 0s 2ms/step - loss: 2.0138 - accuracy: 0.4250 - val_loss: 1.2818 - val_accuracy: 0.4673\n",
      "Epoch 81/200\n",
      "160/160 [==============================] - 0s 3ms/step - loss: 2.0131 - accuracy: 0.4356 - val_loss: 1.2753 - val_accuracy: 0.4673\n",
      "Epoch 82/200\n",
      "160/160 [==============================] - 0s 2ms/step - loss: 1.9968 - accuracy: 0.4489 - val_loss: 1.2682 - val_accuracy: 0.4579\n",
      "Epoch 83/200\n",
      "160/160 [==============================] - 0s 3ms/step - loss: 2.1112 - accuracy: 0.4215 - val_loss: 1.2649 - val_accuracy: 0.4579\n",
      "Epoch 84/200\n",
      "160/160 [==============================] - 0s 3ms/step - loss: 2.0291 - accuracy: 0.4438 - val_loss: 1.2582 - val_accuracy: 0.4579\n",
      "Epoch 85/200\n",
      "160/160 [==============================] - 0s 3ms/step - loss: 2.0130 - accuracy: 0.4348 - val_loss: 1.2518 - val_accuracy: 0.4579\n",
      "Epoch 86/200\n",
      "160/160 [==============================] - 0s 3ms/step - loss: 2.0517 - accuracy: 0.4391 - val_loss: 1.2468 - val_accuracy: 0.4486\n",
      "Epoch 87/200\n",
      "160/160 [==============================] - 0s 3ms/step - loss: 2.0167 - accuracy: 0.4360 - val_loss: 1.2402 - val_accuracy: 0.4486\n",
      "Epoch 88/200\n",
      "160/160 [==============================] - 0s 3ms/step - loss: 2.0178 - accuracy: 0.4340 - val_loss: 1.2341 - val_accuracy: 0.4393\n",
      "Epoch 89/200\n",
      "160/160 [==============================] - 0s 2ms/step - loss: 1.9961 - accuracy: 0.4434 - val_loss: 1.2279 - val_accuracy: 0.4393\n",
      "Epoch 90/200\n",
      "160/160 [==============================] - 1s 4ms/step - loss: 1.9911 - accuracy: 0.4559 - val_loss: 1.2217 - val_accuracy: 0.4393\n",
      "Epoch 91/200\n",
      "160/160 [==============================] - 0s 2ms/step - loss: 2.0327 - accuracy: 0.4391 - val_loss: 1.2157 - val_accuracy: 0.4393\n",
      "Epoch 92/200\n",
      "160/160 [==============================] - 0s 3ms/step - loss: 1.9645 - accuracy: 0.4426 - val_loss: 1.2088 - val_accuracy: 0.4486\n",
      "Epoch 93/200\n",
      "160/160 [==============================] - 0s 3ms/step - loss: 1.9926 - accuracy: 0.4352 - val_loss: 1.2042 - val_accuracy: 0.4393\n",
      "Epoch 94/200\n",
      "160/160 [==============================] - 0s 3ms/step - loss: 1.9975 - accuracy: 0.4348 - val_loss: 1.1988 - val_accuracy: 0.4486\n",
      "Epoch 95/200\n",
      "160/160 [==============================] - 0s 2ms/step - loss: 2.0130 - accuracy: 0.4324 - val_loss: 1.1941 - val_accuracy: 0.4486\n",
      "Epoch 96/200\n",
      "160/160 [==============================] - 0s 3ms/step - loss: 1.9738 - accuracy: 0.4469 - val_loss: 1.1880 - val_accuracy: 0.4486\n",
      "Epoch 97/200\n",
      "160/160 [==============================] - 0s 3ms/step - loss: 1.9470 - accuracy: 0.4571 - val_loss: 1.1833 - val_accuracy: 0.4486\n",
      "Epoch 98/200\n",
      "160/160 [==============================] - 0s 2ms/step - loss: 2.0475 - accuracy: 0.4356 - val_loss: 1.1802 - val_accuracy: 0.4486\n",
      "Epoch 99/200\n",
      "160/160 [==============================] - 0s 3ms/step - loss: 1.9353 - accuracy: 0.4485 - val_loss: 1.1746 - val_accuracy: 0.4486\n",
      "Epoch 100/200\n",
      "160/160 [==============================] - 0s 2ms/step - loss: 2.0316 - accuracy: 0.4332 - val_loss: 1.1708 - val_accuracy: 0.4486\n",
      "Epoch 101/200\n",
      "160/160 [==============================] - 0s 3ms/step - loss: 2.0139 - accuracy: 0.4348 - val_loss: 1.1667 - val_accuracy: 0.4486\n",
      "Epoch 102/200\n",
      "160/160 [==============================] - 0s 3ms/step - loss: 1.9861 - accuracy: 0.4375 - val_loss: 1.1626 - val_accuracy: 0.4393\n",
      "Epoch 103/200\n",
      "160/160 [==============================] - 0s 3ms/step - loss: 1.9593 - accuracy: 0.4473 - val_loss: 1.1580 - val_accuracy: 0.4393\n",
      "Epoch 104/200\n",
      "160/160 [==============================] - 0s 2ms/step - loss: 1.9724 - accuracy: 0.4438 - val_loss: 1.1551 - val_accuracy: 0.4486\n",
      "Epoch 105/200\n",
      "160/160 [==============================] - 0s 2ms/step - loss: 1.9765 - accuracy: 0.4336 - val_loss: 1.1510 - val_accuracy: 0.4486\n",
      "Epoch 106/200\n",
      "160/160 [==============================] - 0s 2ms/step - loss: 1.9286 - accuracy: 0.4528 - val_loss: 1.1463 - val_accuracy: 0.4579\n",
      "Epoch 107/200\n",
      "160/160 [==============================] - 0s 2ms/step - loss: 1.9858 - accuracy: 0.4524 - val_loss: 1.1408 - val_accuracy: 0.4486\n",
      "Epoch 108/200\n",
      "160/160 [==============================] - 0s 3ms/step - loss: 1.9533 - accuracy: 0.4575 - val_loss: 1.1362 - val_accuracy: 0.4486\n",
      "Epoch 109/200\n",
      "160/160 [==============================] - 0s 2ms/step - loss: 1.9174 - accuracy: 0.4602 - val_loss: 1.1317 - val_accuracy: 0.4579\n",
      "Epoch 110/200\n",
      "160/160 [==============================] - 0s 2ms/step - loss: 1.9604 - accuracy: 0.4418 - val_loss: 1.1280 - val_accuracy: 0.4486\n",
      "Epoch 111/200\n",
      "160/160 [==============================] - 0s 2ms/step - loss: 1.9845 - accuracy: 0.4461 - val_loss: 1.1247 - val_accuracy: 0.4486\n",
      "Epoch 112/200\n",
      "160/160 [==============================] - 0s 3ms/step - loss: 2.0092 - accuracy: 0.4403 - val_loss: 1.1222 - val_accuracy: 0.4673\n",
      "Epoch 113/200\n",
      "160/160 [==============================] - 1s 4ms/step - loss: 1.9452 - accuracy: 0.4520 - val_loss: 1.1180 - val_accuracy: 0.4673\n",
      "Epoch 114/200\n",
      "160/160 [==============================] - 1s 4ms/step - loss: 1.9640 - accuracy: 0.4505 - val_loss: 1.1153 - val_accuracy: 0.4673\n"
     ]
    },
    {
     "name": "stdout",
     "output_type": "stream",
     "text": [
      "Epoch 115/200\n",
      "160/160 [==============================] - 1s 4ms/step - loss: 1.9826 - accuracy: 0.4465 - val_loss: 1.1122 - val_accuracy: 0.4673\n",
      "Epoch 116/200\n",
      "160/160 [==============================] - 0s 3ms/step - loss: 1.9449 - accuracy: 0.4418 - val_loss: 1.1083 - val_accuracy: 0.4579\n",
      "Epoch 117/200\n",
      "160/160 [==============================] - 0s 3ms/step - loss: 1.9507 - accuracy: 0.4508 - val_loss: 1.1051 - val_accuracy: 0.4673\n",
      "Epoch 118/200\n",
      "160/160 [==============================] - 0s 3ms/step - loss: 1.9906 - accuracy: 0.4516 - val_loss: 1.1024 - val_accuracy: 0.4673\n",
      "Epoch 119/200\n",
      "160/160 [==============================] - 1s 3ms/step - loss: 1.9615 - accuracy: 0.4481 - val_loss: 1.0998 - val_accuracy: 0.4673\n",
      "Epoch 120/200\n",
      "160/160 [==============================] - 0s 3ms/step - loss: 1.9706 - accuracy: 0.4454 - val_loss: 1.0977 - val_accuracy: 0.4673\n",
      "Epoch 121/200\n",
      "160/160 [==============================] - 0s 3ms/step - loss: 1.9570 - accuracy: 0.4524 - val_loss: 1.0946 - val_accuracy: 0.4673\n",
      "Epoch 122/200\n",
      "160/160 [==============================] - 1s 3ms/step - loss: 1.9732 - accuracy: 0.4450 - val_loss: 1.0915 - val_accuracy: 0.4673\n",
      "Epoch 123/200\n",
      "160/160 [==============================] - 0s 3ms/step - loss: 1.9398 - accuracy: 0.4477 - val_loss: 1.0877 - val_accuracy: 0.4673\n",
      "Epoch 124/200\n",
      "160/160 [==============================] - 1s 4ms/step - loss: 1.9752 - accuracy: 0.4485 - val_loss: 1.0854 - val_accuracy: 0.4766\n",
      "Epoch 125/200\n",
      "160/160 [==============================] - 1s 3ms/step - loss: 1.9203 - accuracy: 0.4552 - val_loss: 1.0826 - val_accuracy: 0.4766\n",
      "Epoch 126/200\n",
      "160/160 [==============================] - 0s 2ms/step - loss: 1.9900 - accuracy: 0.4446 - val_loss: 1.0796 - val_accuracy: 0.4766\n",
      "Epoch 127/200\n",
      "160/160 [==============================] - 0s 2ms/step - loss: 1.9915 - accuracy: 0.4438 - val_loss: 1.0783 - val_accuracy: 0.4766\n",
      "Epoch 128/200\n",
      "160/160 [==============================] - 0s 3ms/step - loss: 1.9547 - accuracy: 0.4579 - val_loss: 1.0755 - val_accuracy: 0.4860\n",
      "Epoch 129/200\n",
      "160/160 [==============================] - 0s 3ms/step - loss: 1.9206 - accuracy: 0.4646 - val_loss: 1.0723 - val_accuracy: 0.4766\n",
      "Epoch 130/200\n",
      "160/160 [==============================] - 0s 2ms/step - loss: 1.9605 - accuracy: 0.4485 - val_loss: 1.0703 - val_accuracy: 0.4860\n",
      "Epoch 131/200\n",
      "160/160 [==============================] - 0s 2ms/step - loss: 1.9599 - accuracy: 0.4505 - val_loss: 1.0679 - val_accuracy: 0.4860\n",
      "Epoch 132/200\n",
      "160/160 [==============================] - 0s 3ms/step - loss: 1.9890 - accuracy: 0.4465 - val_loss: 1.0664 - val_accuracy: 0.4766\n",
      "Epoch 133/200\n",
      "160/160 [==============================] - 1s 5ms/step - loss: 1.9372 - accuracy: 0.4657 - val_loss: 1.0631 - val_accuracy: 0.4766\n",
      "Epoch 134/200\n",
      "160/160 [==============================] - 0s 3ms/step - loss: 1.9642 - accuracy: 0.4473 - val_loss: 1.0621 - val_accuracy: 0.4766\n",
      "Epoch 135/200\n",
      "160/160 [==============================] - 0s 3ms/step - loss: 1.9750 - accuracy: 0.4407 - val_loss: 1.0603 - val_accuracy: 0.4766\n",
      "Epoch 136/200\n",
      "160/160 [==============================] - 0s 3ms/step - loss: 1.9748 - accuracy: 0.4395 - val_loss: 1.0587 - val_accuracy: 0.4766\n",
      "Epoch 137/200\n",
      "160/160 [==============================] - 1s 4ms/step - loss: 1.9049 - accuracy: 0.4689 - val_loss: 1.0553 - val_accuracy: 0.4766\n",
      "Epoch 138/200\n",
      "160/160 [==============================] - 0s 3ms/step - loss: 1.9551 - accuracy: 0.4309 - val_loss: 1.0536 - val_accuracy: 0.4766\n",
      "Epoch 139/200\n",
      "160/160 [==============================] - 0s 3ms/step - loss: 1.8671 - accuracy: 0.4696 - val_loss: 1.0514 - val_accuracy: 0.4766\n",
      "Epoch 140/200\n",
      "160/160 [==============================] - 0s 2ms/step - loss: 1.9432 - accuracy: 0.4438 - val_loss: 1.0495 - val_accuracy: 0.4860\n",
      "Epoch 141/200\n",
      "160/160 [==============================] - 0s 3ms/step - loss: 1.9622 - accuracy: 0.4532 - val_loss: 1.0475 - val_accuracy: 0.4860\n",
      "Epoch 142/200\n",
      "160/160 [==============================] - 0s 3ms/step - loss: 1.9833 - accuracy: 0.4340 - val_loss: 1.0461 - val_accuracy: 0.4766\n",
      "Epoch 143/200\n",
      "160/160 [==============================] - 0s 3ms/step - loss: 1.8762 - accuracy: 0.4563 - val_loss: 1.0442 - val_accuracy: 0.4766\n",
      "Epoch 144/200\n",
      "160/160 [==============================] - 0s 3ms/step - loss: 1.9252 - accuracy: 0.4555 - val_loss: 1.0429 - val_accuracy: 0.4860\n",
      "Epoch 145/200\n",
      "160/160 [==============================] - 0s 3ms/step - loss: 1.9334 - accuracy: 0.4544 - val_loss: 1.0410 - val_accuracy: 0.4860\n",
      "Epoch 146/200\n",
      "160/160 [==============================] - 0s 3ms/step - loss: 1.9407 - accuracy: 0.4602 - val_loss: 1.0395 - val_accuracy: 0.4860\n",
      "Epoch 147/200\n",
      "160/160 [==============================] - 0s 2ms/step - loss: 1.9501 - accuracy: 0.4501 - val_loss: 1.0380 - val_accuracy: 0.4860\n",
      "Epoch 148/200\n",
      "160/160 [==============================] - 0s 3ms/step - loss: 1.9323 - accuracy: 0.4677 - val_loss: 1.0359 - val_accuracy: 0.4860\n",
      "Epoch 149/200\n",
      "160/160 [==============================] - 0s 3ms/step - loss: 1.9754 - accuracy: 0.4403 - val_loss: 1.0356 - val_accuracy: 0.4860\n",
      "Epoch 150/200\n",
      "160/160 [==============================] - 0s 3ms/step - loss: 1.9452 - accuracy: 0.4552 - val_loss: 1.0333 - val_accuracy: 0.4860\n",
      "Epoch 151/200\n",
      "160/160 [==============================] - 0s 3ms/step - loss: 1.9430 - accuracy: 0.4450 - val_loss: 1.0313 - val_accuracy: 0.4860\n",
      "Epoch 152/200\n",
      "160/160 [==============================] - 0s 3ms/step - loss: 1.9772 - accuracy: 0.4489 - val_loss: 1.0298 - val_accuracy: 0.4953\n",
      "Epoch 153/200\n",
      "160/160 [==============================] - 0s 3ms/step - loss: 1.9463 - accuracy: 0.4508 - val_loss: 1.0282 - val_accuracy: 0.5047\n",
      "Epoch 154/200\n",
      "160/160 [==============================] - 1s 4ms/step - loss: 1.9176 - accuracy: 0.4579 - val_loss: 1.0277 - val_accuracy: 0.4953\n",
      "Epoch 155/200\n",
      "160/160 [==============================] - 0s 3ms/step - loss: 1.9582 - accuracy: 0.4516 - val_loss: 1.0259 - val_accuracy: 0.4860\n",
      "Epoch 156/200\n",
      "160/160 [==============================] - 0s 3ms/step - loss: 1.9650 - accuracy: 0.4497 - val_loss: 1.0253 - val_accuracy: 0.4953\n",
      "Epoch 157/200\n",
      "160/160 [==============================] - 0s 3ms/step - loss: 1.9595 - accuracy: 0.4528 - val_loss: 1.0237 - val_accuracy: 0.4953\n",
      "Epoch 158/200\n",
      "160/160 [==============================] - 1s 3ms/step - loss: 1.9593 - accuracy: 0.4532 - val_loss: 1.0226 - val_accuracy: 0.4860\n",
      "Epoch 159/200\n",
      "160/160 [==============================] - 1s 3ms/step - loss: 1.9780 - accuracy: 0.4348 - val_loss: 1.0220 - val_accuracy: 0.4860\n",
      "Epoch 160/200\n",
      "160/160 [==============================] - 1s 4ms/step - loss: 1.9113 - accuracy: 0.4599 - val_loss: 1.0202 - val_accuracy: 0.4860\n",
      "Epoch 161/200\n",
      "160/160 [==============================] - 0s 3ms/step - loss: 1.9135 - accuracy: 0.4575 - val_loss: 1.0190 - val_accuracy: 0.4953\n",
      "Epoch 162/200\n",
      "160/160 [==============================] - 0s 3ms/step - loss: 1.9102 - accuracy: 0.4567 - val_loss: 1.0168 - val_accuracy: 0.5047\n",
      "Epoch 163/200\n",
      "160/160 [==============================] - 1s 3ms/step - loss: 1.8686 - accuracy: 0.4563 - val_loss: 1.0150 - val_accuracy: 0.5140\n",
      "Epoch 164/200\n",
      "160/160 [==============================] - 0s 3ms/step - loss: 1.9132 - accuracy: 0.4505 - val_loss: 1.0139 - val_accuracy: 0.5140\n",
      "Epoch 165/200\n",
      "160/160 [==============================] - 0s 3ms/step - loss: 1.9466 - accuracy: 0.4418 - val_loss: 1.0140 - val_accuracy: 0.5047\n",
      "Epoch 166/200\n",
      "160/160 [==============================] - 1s 3ms/step - loss: 1.9771 - accuracy: 0.4454 - val_loss: 1.0125 - val_accuracy: 0.5140\n",
      "Epoch 167/200\n",
      "160/160 [==============================] - 1s 3ms/step - loss: 1.9272 - accuracy: 0.4548 - val_loss: 1.0119 - val_accuracy: 0.5140\n",
      "Epoch 168/200\n",
      "160/160 [==============================] - 1s 6ms/step - loss: 1.8913 - accuracy: 0.4505 - val_loss: 1.0098 - val_accuracy: 0.5140\n",
      "Epoch 169/200\n",
      "160/160 [==============================] - 1s 5ms/step - loss: 1.8990 - accuracy: 0.4646 - val_loss: 1.0087 - val_accuracy: 0.5140\n",
      "Epoch 170/200\n",
      "160/160 [==============================] - 0s 3ms/step - loss: 1.9556 - accuracy: 0.4532 - val_loss: 1.0084 - val_accuracy: 0.5140\n",
      "Epoch 171/200\n"
     ]
    },
    {
     "name": "stdout",
     "output_type": "stream",
     "text": [
      "160/160 [==============================] - 0s 3ms/step - loss: 1.9142 - accuracy: 0.4528 - val_loss: 1.0072 - val_accuracy: 0.5140\n",
      "Epoch 172/200\n",
      "160/160 [==============================] - 0s 2ms/step - loss: 1.9828 - accuracy: 0.4336 - val_loss: 1.0070 - val_accuracy: 0.5140\n",
      "Epoch 173/200\n",
      "160/160 [==============================] - 0s 2ms/step - loss: 1.9390 - accuracy: 0.4469 - val_loss: 1.0065 - val_accuracy: 0.5047\n",
      "Epoch 174/200\n",
      "160/160 [==============================] - 1s 4ms/step - loss: 1.9393 - accuracy: 0.4508 - val_loss: 1.0048 - val_accuracy: 0.5140\n",
      "Epoch 175/200\n",
      "160/160 [==============================] - 0s 3ms/step - loss: 1.9124 - accuracy: 0.4622 - val_loss: 1.0036 - val_accuracy: 0.5234\n",
      "Epoch 176/200\n",
      "160/160 [==============================] - 0s 3ms/step - loss: 1.9259 - accuracy: 0.4642 - val_loss: 1.0034 - val_accuracy: 0.5140\n",
      "Epoch 177/200\n",
      "160/160 [==============================] - 1s 4ms/step - loss: 1.9674 - accuracy: 0.4516 - val_loss: 1.0034 - val_accuracy: 0.5047\n",
      "Epoch 178/200\n",
      "160/160 [==============================] - 1s 3ms/step - loss: 1.9802 - accuracy: 0.4501 - val_loss: 1.0030 - val_accuracy: 0.5047\n",
      "Epoch 179/200\n",
      "160/160 [==============================] - 0s 2ms/step - loss: 1.9570 - accuracy: 0.4485 - val_loss: 1.0018 - val_accuracy: 0.5047\n",
      "Epoch 180/200\n",
      "160/160 [==============================] - 0s 2ms/step - loss: 1.9619 - accuracy: 0.4450 - val_loss: 1.0017 - val_accuracy: 0.5047\n",
      "Epoch 181/200\n",
      "160/160 [==============================] - 0s 2ms/step - loss: 1.9050 - accuracy: 0.4599 - val_loss: 0.9997 - val_accuracy: 0.5327\n",
      "Epoch 182/200\n",
      "160/160 [==============================] - 0s 2ms/step - loss: 1.9142 - accuracy: 0.4599 - val_loss: 0.9989 - val_accuracy: 0.5327\n",
      "Epoch 183/200\n",
      "160/160 [==============================] - 0s 2ms/step - loss: 1.9304 - accuracy: 0.4544 - val_loss: 0.9978 - val_accuracy: 0.5327\n",
      "Epoch 184/200\n",
      "160/160 [==============================] - 0s 2ms/step - loss: 1.9318 - accuracy: 0.4477 - val_loss: 0.9969 - val_accuracy: 0.5327\n",
      "Epoch 185/200\n",
      "160/160 [==============================] - 0s 2ms/step - loss: 1.9664 - accuracy: 0.4442 - val_loss: 0.9967 - val_accuracy: 0.5234\n",
      "Epoch 186/200\n",
      "160/160 [==============================] - 0s 2ms/step - loss: 1.9746 - accuracy: 0.4473 - val_loss: 0.9955 - val_accuracy: 0.5327\n",
      "Epoch 187/200\n",
      "160/160 [==============================] - 0s 2ms/step - loss: 1.9240 - accuracy: 0.4575 - val_loss: 0.9953 - val_accuracy: 0.5234\n",
      "Epoch 188/200\n",
      "160/160 [==============================] - 0s 2ms/step - loss: 1.9632 - accuracy: 0.4481 - val_loss: 0.9947 - val_accuracy: 0.5234\n",
      "Epoch 189/200\n",
      "160/160 [==============================] - 0s 2ms/step - loss: 1.9075 - accuracy: 0.4610 - val_loss: 0.9937 - val_accuracy: 0.5327\n",
      "Epoch 190/200\n",
      "160/160 [==============================] - 0s 2ms/step - loss: 1.9243 - accuracy: 0.4555 - val_loss: 0.9935 - val_accuracy: 0.5234\n",
      "Epoch 191/200\n",
      "160/160 [==============================] - 0s 2ms/step - loss: 1.9366 - accuracy: 0.4575 - val_loss: 0.9928 - val_accuracy: 0.5327\n",
      "Epoch 192/200\n",
      "160/160 [==============================] - 0s 2ms/step - loss: 1.9518 - accuracy: 0.4559 - val_loss: 0.9920 - val_accuracy: 0.5327\n",
      "Epoch 193/200\n",
      "160/160 [==============================] - 0s 2ms/step - loss: 1.9132 - accuracy: 0.4579 - val_loss: 0.9918 - val_accuracy: 0.5234\n",
      "Epoch 194/200\n",
      "160/160 [==============================] - 0s 2ms/step - loss: 1.9485 - accuracy: 0.4422 - val_loss: 0.9910 - val_accuracy: 0.5234\n",
      "Epoch 195/200\n",
      "160/160 [==============================] - 0s 2ms/step - loss: 1.9184 - accuracy: 0.4567 - val_loss: 0.9909 - val_accuracy: 0.5234\n",
      "Epoch 196/200\n",
      "160/160 [==============================] - 0s 2ms/step - loss: 1.9271 - accuracy: 0.4520 - val_loss: 0.9895 - val_accuracy: 0.5327\n",
      "Epoch 197/200\n",
      "160/160 [==============================] - 0s 2ms/step - loss: 1.9447 - accuracy: 0.4473 - val_loss: 0.9893 - val_accuracy: 0.5327\n",
      "Epoch 198/200\n",
      "160/160 [==============================] - 0s 2ms/step - loss: 1.9291 - accuracy: 0.4552 - val_loss: 0.9885 - val_accuracy: 0.5421\n",
      "Epoch 199/200\n",
      "160/160 [==============================] - 0s 2ms/step - loss: 1.9426 - accuracy: 0.4438 - val_loss: 0.9886 - val_accuracy: 0.5327\n",
      "Epoch 200/200\n",
      "160/160 [==============================] - 0s 2ms/step - loss: 1.9426 - accuracy: 0.4458 - val_loss: 0.9883 - val_accuracy: 0.5327\n"
     ]
    }
   ],
   "source": [
    "history = model.fit(X_train, y_train, batch_size=16, epochs=200, validation_split=0.04)"
   ]
  },
  {
   "cell_type": "code",
   "execution_count": 8,
   "metadata": {},
   "outputs": [
    {
     "data": {
      "image/png": "[encoded data removed]",
      "text/plain": [
       "<Figure size 432x288 with 1 Axes>"
      ]
     },
     "metadata": {
      "needs_background": "light"
     },
     "output_type": "display_data"
    }
   ],
   "source": [
    "import matplotlib.pyplot as plt\n",
    "plt.plot(history.history['loss'], label='train')\n",
    "plt.plot(history.history['val_loss'], label='validation')\n",
    "plt.legend()\n",
    "plt.show()"
   ]
  },
  {
   "cell_type": "code",
   "execution_count": 9,
   "metadata": {},
   "outputs": [
    {
     "data": {
      "image/png": "[encoded data removed]",
      "text/plain": [
       "<Figure size 432x288 with 1 Axes>"
      ]
     },
     "metadata": {
      "needs_background": "light"
     },
     "output_type": "display_data"
    }
   ],
   "source": [
    "# plt.plot(history.history['acc'], label='train')\n",
    "# plt.plot(history.history['val_acc'], label='validation')\n",
    "plt.plot(history.history['accuracy'], label='train')\n",
    "plt.plot(history.history['val_accuracy'], label='validation')\n",
    "plt.legend()\n",
    "plt.show()"
   ]
  },
  {
   "cell_type": "code",
   "execution_count": 10,
   "metadata": {},
   "outputs": [
    {
     "name": "stdout",
     "output_type": "stream",
     "text": [
      "Test set accuracy: 0.5368421052631579\n"
     ]
    }
   ],
   "source": [
    "test_predictions = np.argmax(model.predict(X_test), axis=1)\n",
    "accuracy = (test_predictions == y_test.values).sum() / y_test.values.shape[0]\n",
    "print(\"Test set accuracy:\", accuracy)"
   ]
  },
  {
   "cell_type": "code",
   "execution_count": 11,
   "metadata": {},
   "outputs": [
    {
     "name": "stdout",
     "output_type": "stream",
     "text": [
      "Y train\n",
      "Unique train labels: [0 1 2]\n",
      "Away win count: 738\n",
      "Draw count: 621\n",
      "Away win count: 1301\n"
     ]
    }
   ],
   "source": [
    "from sklearn.metrics import confusion_matrix\n",
    "print(\"Y train\")\n",
    "print(\"Unique train labels:\", np.unique(y_train.values))\n",
    "print(\"Away win count:\", (y_train==0).sum())\n",
    "print(\"Draw count:\", (y_train==1).sum())\n",
    "print(\"Away win count:\", (y_train==2).sum())"
   ]
  },
  {
   "cell_type": "code",
   "execution_count": 12,
   "metadata": {},
   "outputs": [
    {
     "name": "stdout",
     "output_type": "stream",
     "text": [
      "Train Prediction\n",
      "Unique train labels: [0 1 2]\n",
      "Away win count: 738\n",
      "Draw count: 621\n",
      "Home win count: 1301\n"
     ]
    }
   ],
   "source": [
    "print(\"Train Prediction\")\n",
    "train_predictions = np.argmax(model.predict(X_train), axis=1)\n",
    "print(\"Unique train labels:\", np.unique(train_predictions))\n",
    "print(\"Away win count:\", (y_train==0).sum())\n",
    "print(\"Draw count:\", (y_train==1).sum())\n",
    "print(\"Home win count:\", (y_train==2).sum())"
   ]
  },
  {
   "cell_type": "code",
   "execution_count": 13,
   "metadata": {},
   "outputs": [
    {
     "name": "stdout",
     "output_type": "stream",
     "text": [
      "Train Data\n"
     ]
    },
    {
     "data": {
      "text/html": [
       "<div>\n",
       "<style scoped>\n",
       "    .dataframe tbody tr th:only-of-type {\n",
       "        vertical-align: middle;\n",
       "    }\n",
       "\n",
       "    .dataframe tbody tr th {\n",
       "        vertical-align: top;\n",
       "    }\n",
       "\n",
       "    .dataframe thead th {\n",
       "        text-align: right;\n",
       "    }\n",
       "</style>\n",
       "<table border=\"1\" class=\"dataframe\">\n",
       "  <thead>\n",
       "    <tr style=\"text-align: right;\">\n",
       "      <th></th>\n",
       "      <th>pred home</th>\n",
       "      <th>pred draw</th>\n",
       "      <th>pred away</th>\n",
       "    </tr>\n",
       "  </thead>\n",
       "  <tbody>\n",
       "    <tr>\n",
       "      <th>true home</th>\n",
       "      <td>342</td>\n",
       "      <td>12</td>\n",
       "      <td>384</td>\n",
       "    </tr>\n",
       "    <tr>\n",
       "      <th>true draw</th>\n",
       "      <td>175</td>\n",
       "      <td>25</td>\n",
       "      <td>421</td>\n",
       "    </tr>\n",
       "    <tr>\n",
       "      <th>true away</th>\n",
       "      <td>184</td>\n",
       "      <td>42</td>\n",
       "      <td>1075</td>\n",
       "    </tr>\n",
       "  </tbody>\n",
       "</table>\n",
       "</div>"
      ],
      "text/plain": [
       "           pred home  pred draw  pred away\n",
       "true home        342         12        384\n",
       "true draw        175         25        421\n",
       "true away        184         42       1075"
      ]
     },
     "execution_count": 13,
     "metadata": {},
     "output_type": "execute_result"
    }
   ],
   "source": [
    "# Train\n",
    "df_conf_matrix = pd.DataFrame(confusion_matrix(y_train, train_predictions, labels=[0, 1, 2]), \n",
    "             index=['true home', 'true draw', 'true away'], columns=['pred home', 'pred draw', 'pred away'])\n",
    "print(\"Train Data\")\n",
    "df_conf_matrix"
   ]
  },
  {
   "cell_type": "code",
   "execution_count": 14,
   "metadata": {},
   "outputs": [
    {
     "name": "stdout",
     "output_type": "stream",
     "text": [
      "Test Data\n"
     ]
    },
    {
     "data": {
      "text/html": [
       "<div>\n",
       "<style scoped>\n",
       "    .dataframe tbody tr th:only-of-type {\n",
       "        vertical-align: middle;\n",
       "    }\n",
       "\n",
       "    .dataframe tbody tr th {\n",
       "        vertical-align: top;\n",
       "    }\n",
       "\n",
       "    .dataframe thead th {\n",
       "        text-align: right;\n",
       "    }\n",
       "</style>\n",
       "<table border=\"1\" class=\"dataframe\">\n",
       "  <thead>\n",
       "    <tr style=\"text-align: right;\">\n",
       "      <th></th>\n",
       "      <th>pred home</th>\n",
       "      <th>pred draw</th>\n",
       "      <th>pred away</th>\n",
       "    </tr>\n",
       "  </thead>\n",
       "  <tbody>\n",
       "    <tr>\n",
       "      <th>true home</th>\n",
       "      <td>48</td>\n",
       "      <td>7</td>\n",
       "      <td>58</td>\n",
       "    </tr>\n",
       "    <tr>\n",
       "      <th>true draw</th>\n",
       "      <td>24</td>\n",
       "      <td>1</td>\n",
       "      <td>58</td>\n",
       "    </tr>\n",
       "    <tr>\n",
       "      <th>true away</th>\n",
       "      <td>28</td>\n",
       "      <td>1</td>\n",
       "      <td>155</td>\n",
       "    </tr>\n",
       "  </tbody>\n",
       "</table>\n",
       "</div>"
      ],
      "text/plain": [
       "           pred home  pred draw  pred away\n",
       "true home         48          7         58\n",
       "true draw         24          1         58\n",
       "true away         28          1        155"
      ]
     },
     "execution_count": 14,
     "metadata": {},
     "output_type": "execute_result"
    }
   ],
   "source": [
    "# Test\n",
    "df_conf_matrix = pd.DataFrame(confusion_matrix(y_test, test_predictions, labels=[0, 1, 2]), \n",
    "             index=['true home', 'true draw', 'true away'], columns=['pred home', 'pred draw', 'pred away'])\n",
    "print(\"Test Data\")\n",
    "df_conf_matrix"
   ]
  },
  {
   "cell_type": "markdown",
   "metadata": {},
   "source": [
    "## Stupid models\n",
    "\n",
    "####  accumulation history goal"
   ]
  },
  {
   "cell_type": "code",
   "execution_count": 15,
   "metadata": {},
   "outputs": [
    {
     "name": "stdout",
     "output_type": "stream",
     "text": [
      "Test set accuracy goal_score_history: 0.4605263157894737\n"
     ]
    }
   ],
   "source": [
    "def get_accuracy(test_preidction, y_test):\n",
    "    return (test_predictions == y_test.values).sum() / y_test.values.shape[0]\n",
    "\n",
    "def goal_score_history(X_test):\n",
    "    my_pred_h =  2*(X_test['HTGS'] > X_test['ATGS'])\n",
    "    my_pred_a =  0*(X_test['HTGS'] < X_test['ATGS'])\n",
    "    my_pred_d =  1*(X_test['HTGS'] == X_test['ATGS'])\n",
    "    my_pred = my_pred_h + my_pred_a + my_pred_d\n",
    "    return my_pred\n",
    "\n",
    "# print(X_test.loc[10,:])\n",
    "# print(list(pred_on_gs(X_test)))\n",
    "# print(y_test)\n",
    "# print(ftrLE.inverse_transform(pred_on_gs(X_test)))\n",
    "test_predictions = list(goal_score_history(X_test))\n",
    "print(\"Test set accuracy goal_score_history:\", get_accuracy(test_predictions,y_test))"
   ]
  },
  {
   "cell_type": "markdown",
   "metadata": {},
   "source": [
    "#### always home, away, draw"
   ]
  },
  {
   "cell_type": "code",
   "execution_count": 16,
   "metadata": {},
   "outputs": [
    {
     "name": "stdout",
     "output_type": "stream",
     "text": [
      "Test set accuracy home_always_win: 0.4842105263157895\n",
      "Test set accuracy away_always_win: 0.29736842105263156\n",
      "Test set accuracy always_draw: 0.21842105263157896\n"
     ]
    }
   ],
   "source": [
    "def home_always_win(X_test):\n",
    "    return [2] * X_test.shape[0]\n",
    "\n",
    "def away_always_win(X_test):\n",
    "    return [0] * X_test.shape[0]\n",
    "\n",
    "def always_draw(X_test):\n",
    "    return [1] * X_test.shape[0]\n",
    "\n",
    "\n",
    "test_predictions = list(home_always_win(X_test))\n",
    "print(\"Test set accuracy home_always_win:\", get_accuracy(test_predictions,y_test))\n",
    "\n",
    "test_predictions = list(away_always_win(X_test))\n",
    "print(\"Test set accuracy away_always_win:\", get_accuracy(test_predictions,y_test))\n",
    "\n",
    "test_predictions = list(always_draw(X_test))\n",
    "print(\"Test set accuracy always_draw:\", get_accuracy(test_predictions,y_test))"
   ]
  },
  {
   "cell_type": "markdown",
   "metadata": {},
   "source": [
    "#### "
   ]
  },
  {
   "cell_type": "code",
   "execution_count": 17,
   "metadata": {},
   "outputs": [
    {
     "name": "stdout",
     "output_type": "stream",
     "text": [
      "Test set accuracy random_distribution_to_the_train: 0.43157894736842106\n"
     ]
    }
   ],
   "source": [
    "def random_distribution_to_the_train(X_train,y_train,X_test):\n",
    "    distribution = [len(y_train[y_train == 0]),len(y_train[y_train == 1]),len(y_train[y_train == 2])]\n",
    "    distribution = np.array(distribution)/sum(distribution)\n",
    "    result = []\n",
    "    for i in range(len(X_test)):\n",
    "        result.append(np.random.choice([0,1,2], p=distribution))\n",
    "    return np.array(result)\n",
    "\n",
    "\n",
    "result = random_distribution_to_the_train(X_train,y_train,X_test)\n",
    "\n",
    "test_predictions = list(random_distribution_to_the_train(X_train,y_train,X_test))\n",
    "print(\"Test set accuracy random_distribution_to_the_train:\", get_accuracy(test_predictions,y_test))"
   ]
  },
  {
   "cell_type": "code",
   "execution_count": null,
   "metadata": {},
   "outputs": [],
   "source": []
  }
 ],
 "metadata": {
  "kernelspec": {
   "display_name": "Python 3",
   "language": "python",
   "name": "python3"
  },
  "language_info": {
   "codemirror_mode": {
    "name": "ipython",
    "version": 3
   },
   "file_extension": ".py",
   "mimetype": "text/x-python",
   "name": "python",
   "nbconvert_exporter": "python",
   "pygments_lexer": "ipython3",
   "version": "3.6.7"
  }
 },
 "nbformat": 4,
 "nbformat_minor": 2
}
